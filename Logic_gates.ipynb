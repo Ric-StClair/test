{
 "cells": [
  {
   "cell_type": "markdown",
   "id": "c78132a8-89a7-4b34-8ac5-47b3070040cc",
   "metadata": {},
   "source": [
    "# Logic Gates: follow-up from Lecture 1"
   ]
  },
  {
   "cell_type": "markdown",
   "id": "b29c33ec-f589-4c72-ac9a-c36404865975",
   "metadata": {
    "tags": []
   },
   "source": [
    "### Binary digits\n",
    "\n",
    "**EVERYTHING** on a computer is stored as a sequence of 0's and 1's:\n",
    " - photos\n",
    " - documents\n",
    " - movies\n",
    " - songs\n",
    " - excel spreadsheet\n",
    " - etc."
   ]
  },
  {
   "cell_type": "code",
   "execution_count": 1,
   "id": "24fa4171-5c60-4637-a419-0d80ecc73c60",
   "metadata": {
    "tags": []
   },
   "outputs": [
    {
     "data": {
      "text/plain": [
       "(97, '0b1100001')"
      ]
     },
     "execution_count": 1,
     "metadata": {},
     "output_type": "execute_result"
    }
   ],
   "source": [
    "ord('a'), bin(ord('a'))"
   ]
  },
  {
   "cell_type": "markdown",
   "id": "67ac25e7-363d-422c-82d5-23e1cb627b9a",
   "metadata": {},
   "source": [
    "### NOT gate\n",
    "\n",
    "![Image](not_gate.png)"
   ]
  },
  {
   "cell_type": "code",
   "execution_count": 55,
   "id": "e18424f5-d32a-4b46-9fb9-0e2586bea70f",
   "metadata": {
    "tags": []
   },
   "outputs": [
    {
     "data": {
      "text/plain": [
       "0"
      ]
     },
     "execution_count": 55,
     "metadata": {},
     "output_type": "execute_result"
    }
   ],
   "source": [
    "# create a NOT gate\n",
    "#syntax\n",
    "#def name(how many inputs):\n",
    "def not_gate(A):\n",
    "    if A==0:\n",
    "        return 1   \n",
    "    if A==1:\n",
    "        return 0 \n",
    "not_gate(1)\n",
    "# def not_gate(A):\n",
    "#     if A:\n",
    "#         return False   \n",
    "#     else:\n",
    "#         return True \n"
   ]
  },
  {
   "cell_type": "code",
   "execution_count": 43,
   "id": "1b29d6fb-d8c5-42ab-bff4-a5f8a5ebe82c",
   "metadata": {
    "tags": []
   },
   "outputs": [
    {
     "data": {
      "text/plain": [
       "False"
      ]
     },
     "execution_count": 43,
     "metadata": {},
     "output_type": "execute_result"
    }
   ],
   "source": [
    "# Test gate\n",
    "\n",
    "not_gate(\"1\")"
   ]
  },
  {
   "cell_type": "markdown",
   "id": "9d07a89a-2fab-4bb0-8336-85f41e6ec95e",
   "metadata": {},
   "source": [
    "### AND gate\n",
    "\n",
    "![Image](and_gate.png)"
   ]
  },
  {
   "cell_type": "code",
   "execution_count": 60,
   "id": "13e05bab-db88-4239-8f31-6a72e61f86eb",
   "metadata": {
    "tags": []
   },
   "outputs": [],
   "source": [
    "# create AND gate\n",
    "def And_Gate(A,B):\n",
    "    if A==1 and B==1:\n",
    "        return 1\n",
    "    if A==0 and B==1:\n",
    "        return 0\n",
    "    if A==1 and B==0:\n",
    "        return 0\n",
    "    if A==0 and B==0:\n",
    "        return 0\n",
    "        \n",
    "\n",
    "# And_Gate(1,1)\n",
    "       \n"
   ]
  },
  {
   "cell_type": "code",
   "execution_count": 51,
   "id": "22b191c1-feff-4e10-8384-159dde2bc87b",
   "metadata": {
    "tags": []
   },
   "outputs": [
    {
     "data": {
      "text/plain": [
       "False"
      ]
     },
     "execution_count": 51,
     "metadata": {},
     "output_type": "execute_result"
    }
   ],
   "source": [
    "# Test gate\n",
    "\n",
    "# def And_Gate(A,B):\n",
    "#     if A==1 and B==1:\n",
    "#         return 1\n",
    "#     if A==1 and B==0:\n",
    "#         return 0\n",
    "#     if A==0:\n",
    "#         return 0\n",
    "# And_Gate(1,0)\n",
    "\n",
    "\n",
    "def And_Gate (A,B):\n",
    "    if A and B:\n",
    "        return True\n",
    "    else:\n",
    "        return False\n",
    "And_Gate (\"asdasd\",\"\")"
   ]
  },
  {
   "cell_type": "markdown",
   "id": "d128c3ea-dfb4-4e5a-b1f0-0035250b2551",
   "metadata": {},
   "source": [
    "### XOR gate\n",
    "\n",
    "![Image](xor_gate.png)"
   ]
  },
  {
   "cell_type": "code",
   "execution_count": 64,
   "id": "caa95545-940e-4d0f-a5f0-e1f0273eff8c",
   "metadata": {
    "tags": []
   },
   "outputs": [
    {
     "data": {
      "text/plain": [
       "0"
      ]
     },
     "execution_count": 64,
     "metadata": {},
     "output_type": "execute_result"
    }
   ],
   "source": [
    "# create XOR gate\n",
    "def Xor_gate(A,B):\n",
    "    if A==B:\n",
    "        return 0\n",
    "    if A!=B:\n",
    "        return 1\n",
    "Xor_gate(1,1)        "
   ]
  },
  {
   "cell_type": "code",
   "execution_count": 21,
   "id": "02cad43f-c360-4530-b9e7-1d243f316040",
   "metadata": {
    "tags": []
   },
   "outputs": [
    {
     "data": {
      "text/plain": [
       "(0, 1)"
      ]
     },
     "execution_count": 21,
     "metadata": {},
     "output_type": "execute_result"
    }
   ],
   "source": [
    "# Test gate\n",
    "\n",
    "# def Xor_gate(A,B)\n",
    "#     if A ==0:\n",
    "#         if B==1:\n",
    "#             return 1\n",
    "#         if B==0:\n",
    "#             return 0\n"
   ]
  },
  {
   "cell_type": "markdown",
   "id": "1e07ec2d-5371-4245-b454-8e7ec774532a",
   "metadata": {},
   "source": [
    "### 2-Bit Adder\n",
    "\n",
    "![Image](two_bit_adder.png)"
   ]
  },
  {
   "cell_type": "code",
   "execution_count": 25,
   "id": "a59520c3-4e0d-4c4a-8925-36c6df080612",
   "metadata": {
    "tags": []
   },
   "outputs": [
    {
     "data": {
      "text/plain": [
       "(1, 0)"
      ]
     },
     "execution_count": 25,
     "metadata": {},
     "output_type": "execute_result"
    }
   ],
   "source": [
    "# 2 bit adder\n",
    "def Two_bit_adder(A,B):\n",
    "    \n",
    "    if A==B:\n",
    "        if A==1:\n",
    "            return 1,0\n",
    "        if A==0:\n",
    "            return 0,0\n",
    "    else:\n",
    "        return (0,1)\n",
    "    \n",
    "Two_bit_adder (1,1)"
   ]
  },
  {
   "cell_type": "code",
   "execution_count": 66,
   "id": "199abb5a-e6b3-4b8c-8e2f-d0cb01576ee4",
   "metadata": {},
   "outputs": [
    {
     "data": {
      "text/plain": [
       "(1, 0)"
      ]
     },
     "execution_count": 66,
     "metadata": {},
     "output_type": "execute_result"
    }
   ],
   "source": [
    "# Test adder\n",
    "def xor_and_two_bit(A,B):\n",
    "    return And_Gate(A,B),Xor_gate(A,B)\n",
    "xor_and_two_bit (1,1)"
   ]
  }
 ],
 "metadata": {
  "kernelspec": {
   "display_name": "Python 3 (ipykernel)",
   "language": "python",
   "name": "python3"
  },
  "language_info": {
   "codemirror_mode": {
    "name": "ipython",
    "version": 3
   },
   "file_extension": ".py",
   "mimetype": "text/x-python",
   "name": "python",
   "nbconvert_exporter": "python",
   "pygments_lexer": "ipython3",
   "version": "3.12.1"
  }
 },
 "nbformat": 4,
 "nbformat_minor": 5
}
