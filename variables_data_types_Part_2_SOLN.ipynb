{
 "cells": [
  {
   "cell_type": "markdown",
   "id": "4fbe4e5d-4969-40f3-8396-a2828326783d",
   "metadata": {},
   "source": [
    "# Part 2: Variables, Data Types, Operators, and Conditional Logic"
   ]
  },
  {
   "cell_type": "markdown",
   "id": "ee094192-3c84-442f-a918-fd3b9c269d32",
   "metadata": {
    "tags": []
   },
   "source": [
    "### Sequence types: `list`, `tuple`, and `range`\n"
   ]
  },
  {
   "cell_type": "markdown",
   "id": "990d4591",
   "metadata": {},
   "source": [
    "#### Lists \n",
    "\n",
    "Lists may be constructed in several ways:\n",
    "\n",
    " - using square brackets:\n",
    "    - empty list: `[]`\n",
    "    - separating items with commas: `[a]`, `[a, b, c]`\n",
    " - list comprehension: \n",
    "    - `[x for x in iterable]`\n",
    " - type constructor: \n",
    "    - empty list: `list()` \n",
    "    - from iterable: `list(iterable)`"
   ]
  },
  {
   "cell_type": "code",
   "execution_count": 2,
   "id": "097eff82",
   "metadata": {},
   "outputs": [
    {
     "name": "stdout",
     "output_type": "stream",
     "text": [
      "<class 'list'> []\n",
      "<class 'list'> []\n",
      "<class 'list'> ['a', 'b', 'c']\n",
      "<class 'list'> ['d', 'e', 'f']\n",
      "<class 'list'> ['g', 'h', 'i']\n",
      "<class 'list'> ['dog', 'cat']\n"
     ]
    }
   ],
   "source": [
    "# create some lists\n",
    "L1 = []\n",
    "L2 = list()\n",
    "L3 = ['a', 'b', 'c']\n",
    "L4 = [x for x in 'def']\n",
    "L5 = list('ghi')\n",
    "L6 = [\"dog\",\"cat\"]\n",
    "\n",
    "L_list = [L1, L2, L3, L4, L5,L6]\n",
    "\n",
    "for L in L_list:\n",
    "    print(type(L), L)"
   ]
  },
  {
   "cell_type": "code",
   "execution_count": 7,
   "id": "4b638a4e",
   "metadata": {},
   "outputs": [
    {
     "data": {
      "text/plain": [
       "2"
      ]
     },
     "execution_count": 7,
     "metadata": {},
     "output_type": "execute_result"
    }
   ],
   "source": []
  },
  {
   "cell_type": "code",
   "execution_count": 47,
   "id": "5dd256e0",
   "metadata": {},
   "outputs": [
    {
     "data": {
      "text/plain": [
       "[2, 3]"
      ]
     },
     "execution_count": 47,
     "metadata": {},
     "output_type": "execute_result"
    }
   ],
   "source": [
    "# \"dog\" in L6\n",
    "# 'gsi' in \"eggs\"\n",
    "lists = [[]] * 3\n",
    "# lists[2] = [3]\n",
    "lists[:] = [1,2,3]\n",
    "del lists[0]\n",
    "lists\n",
    "\n",
    "s=lists.copy()\n",
    "s\n",
    "# L7 = []\n",
    "# L7.append(4)\n",
    "# L7"
   ]
  },
  {
   "cell_type": "markdown",
   "id": "7151bf81",
   "metadata": {},
   "source": [
    "##### List methods/operations\n",
    "\n",
    "Lists impement all of the [common sequence methods](https://docs.python.org/3/library/stdtypes.html#typesseq-common) and \n",
    "the [mutable sequence operations/methods](https://docs.python.org/3/library/stdtypes.html#typesseq-mutable).\n",
    "\n",
    "In addition, lists also support the additional method:\n",
    "   - `sort(key=None, reverse=False)`\n",
    "   - more information on sorting can be found in the [docs](https://docs.python.org/3/howto/sorting.html#sortinghowto)"
   ]
  },
  {
   "cell_type": "markdown",
   "id": "177ff121",
   "metadata": {},
   "source": [
    "\n",
    "##### List properties\n",
    "\n",
    "The important properties of lists are as follows:\n",
    " - elements can be accessed by index (suscriptable)\n",
    "  - iterable\n",
    " - mutable\n",
    " - ordered\n",
    " - can contain any arbitrary objects\n",
    " - can be nested to arbitrary depth\n",
    " - dynamic (change size)\n",
    "\n"
   ]
  },
  {
   "cell_type": "markdown",
   "id": "6a9f6263",
   "metadata": {},
   "source": [
    "\n",
    "<center><img src=\"Python_indexing.png\" alt=\"Drawing\" style=\"width: 600px;\"/><br><br>\n"
   ]
  },
  {
   "cell_type": "code",
   "execution_count": 49,
   "id": "058bf386",
   "metadata": {},
   "outputs": [
    {
     "data": {
      "text/plain": [
       "['a', 'b', 'c', 'd', 'e', 'f', 'g']"
      ]
     },
     "execution_count": 49,
     "metadata": {},
     "output_type": "execute_result"
    }
   ],
   "source": [
    "# create list of letters\n",
    "L = list('abcdefg')\n",
    "L\n"
   ]
  },
  {
   "cell_type": "code",
   "execution_count": null,
   "id": "dada56d7",
   "metadata": {},
   "outputs": [],
   "source": [
    "# get a single element\n",
    "\n",
    "L[1]\n",
    "L[11]"
   ]
  },
  {
   "cell_type": "code",
   "execution_count": 56,
   "id": "83502669-9e11-4895-9d5d-c134b479a953",
   "metadata": {},
   "outputs": [
    {
     "name": "stdout",
     "output_type": "stream",
     "text": [
      "Slice 1: [3, 4, 5, 6]\n",
      "Slice 2: [1, 2, 3, 4, 5]\n",
      "Slice 3: [6, 7, 8, 9, 10]\n",
      "Slice 4: [6, 7, 8, 9, 10]\n",
      "[10, 9, 8, 7, 6, 5, 4, 3, 2, 1]\n",
      "Slice 6: [2, 4, 6, 8]\n"
     ]
    }
   ],
   "source": [
    "# slice\n",
    "# create a list\n",
    "my_list = [1, 2, 3, 4, 5, 6, 7, 8, 9, 10]\n",
    "\n",
    "# basic slicing\n",
    "slice_1 = my_list[2:6]\n",
    "print(\"Slice 1:\", slice_1)\n",
    "\n",
    "# leaving off starting and ending index\n",
    "slice_2 = my_list[:5]\n",
    "print(\"Slice 2:\", slice_2)\n",
    "\n",
    "slice_3 = my_list[5:]\n",
    "print(\"Slice 3:\", slice_3)\n",
    "\n",
    "# starting before 0\n",
    "slice_4 = my_list[-5:]\n",
    "print(\"Slice 4:\", slice_4)\n",
    "\n",
    "# ending after the end of the list\n",
    "slice_5 = my_list[:15]\n",
    "# print(\"Slice 5:\", slice_5)\n",
    "print(slice_5[::-1])\n",
    "\n",
    "# step size different than 1\n",
    "slice_6 = my_list[1:9:2]\n",
    "print(\"Slice 6:\", slice_6)\n"
   ]
  },
  {
   "cell_type": "code",
   "execution_count": 52,
   "id": "74d3a638",
   "metadata": {},
   "outputs": [
    {
     "name": "stdout",
     "output_type": "stream",
     "text": [
      "Slice 1: [5, 6, 7, 8]\n",
      "Slice 2: [3, 4, 5, 6, 7, 8, 9, 10]\n",
      "Slice 3: [1, 2, 3, 4, 5]\n",
      "Slice 4: [1, 3, 5]\n"
     ]
    }
   ],
   "source": [
    "# slice with negative indices\n",
    "\n",
    "# create a list\n",
    "my_list = [1, 2, 3, 4, 5, 6, 7, 8, 9, 10]\n",
    "\n",
    "# slice with negative indices\n",
    "slice_1 = my_list[-6:-2]\n",
    "print(\"Slice 1:\", slice_1)\n",
    "\n",
    "slice_2 = my_list[-8:]\n",
    "print(\"Slice 2:\", slice_2)\n",
    "\n",
    "slice_3 = my_list[:-5]\n",
    "print(\"Slice 3:\", slice_3)\n",
    "\n",
    "slice_4 = my_list[-10:-5:2]\n",
    "print(\"Slice 4:\", slice_4)"
   ]
  },
  {
   "cell_type": "code",
   "execution_count": 57,
   "id": "b9e1f193",
   "metadata": {},
   "outputs": [
    {
     "name": "stdout",
     "output_type": "stream",
     "text": [
      "1871305758272\n",
      "1871305758272\n"
     ]
    },
    {
     "data": {
      "text/plain": [
       "[999, 'b', 'c', 'd', 'e', 'f', 'g']"
      ]
     },
     "execution_count": 57,
     "metadata": {},
     "output_type": "execute_result"
    }
   ],
   "source": [
    "# change an element\n",
    "\n",
    "L = list('abcdefg')\n",
    "\n",
    "print(id(L))\n",
    "L[0] = 999\n",
    "print(id(L))\n",
    "L"
   ]
  },
  {
   "cell_type": "code",
   "execution_count": 58,
   "id": "a4bb9a99",
   "metadata": {},
   "outputs": [
    {
     "name": "stdout",
     "output_type": "stream",
     "text": [
      "999\n",
      "b\n",
      "c\n",
      "d\n",
      "e\n",
      "f\n",
      "g\n"
     ]
    }
   ],
   "source": [
    "# iterate over a list\n",
    "\n",
    "for item in L:\n",
    "    print(item)"
   ]
  },
  {
   "cell_type": "code",
   "execution_count": 59,
   "id": "4bb47313",
   "metadata": {},
   "outputs": [
    {
     "data": {
      "text/plain": [
       "False"
      ]
     },
     "execution_count": 59,
     "metadata": {},
     "output_type": "execute_result"
    }
   ],
   "source": [
    "# ordered \n",
    "\n",
    "[1, 2, 3] == [2, 3, 1]\n"
   ]
  },
  {
   "cell_type": "code",
   "execution_count": 60,
   "id": "056ca7ef",
   "metadata": {},
   "outputs": [
    {
     "data": {
      "text/plain": [
       "[1,\n",
       " 2.3,\n",
       " 'a',\n",
       " True,\n",
       " [1, 2, 3],\n",
       " <function print(*args, sep=' ', end='\\n', file=None, flush=False)>]"
      ]
     },
     "execution_count": 60,
     "metadata": {},
     "output_type": "execute_result"
    }
   ],
   "source": [
    "# arbitrary objects\n",
    "\n",
    "[1, 2.3, 'a', True, [1, 2, 3], print]\n"
   ]
  },
  {
   "cell_type": "code",
   "execution_count": 61,
   "id": "0f3be00f",
   "metadata": {},
   "outputs": [
    {
     "data": {
      "text/plain": [
       "[1, [2, [3, [4, [5, [6, 7]]]]]]"
      ]
     },
     "execution_count": 61,
     "metadata": {},
     "output_type": "execute_result"
    }
   ],
   "source": [
    "# nesting\n",
    "\n",
    "L1 = [1, [2, [3, [4, [5, [6, 7]]]]]]\n",
    "L1"
   ]
  },
  {
   "cell_type": "code",
   "execution_count": null,
   "id": "0d9b7a2d",
   "metadata": {},
   "outputs": [],
   "source": [
    "L1[1][1][1][1][1][1]"
   ]
  },
  {
   "cell_type": "code",
   "execution_count": 63,
   "id": "80a4f29d",
   "metadata": {},
   "outputs": [
    {
     "name": "stdout",
     "output_type": "stream",
     "text": [
      "['a', 'b', 'c', 'd', 'e', 'f', 'g', 'h', 'i']\n",
      "['RRR', 'a', 'b', 'c', 'd', 'e', 'f', 'g', 'h', 'i']\n",
      "['RRR', 'a', 'b', 'c', 'd', 'e', 'f', 'g', 'h', 'i', 'X', 'Y']\n",
      "['P', 'Q', 'RRR', 'a', 'b', 'c', 'd', 'e', 'f', 'g', 'h', 'i', 'X', 'Y']\n",
      "['P', 'Q', 'a', 'b', 'c', 'd', 'e', 'f', 'g', 'h', 'i', 'X', 'Y']\n"
     ]
    }
   ],
   "source": [
    "# add elements to a list: append, extend\n",
    "\n",
    "L = list('abcdefg')\n",
    "\n",
    "L.extend(['h', 'i'])\n",
    "print(L)\n",
    "L.insert(0, 'RRR')\n",
    "print(L)\n",
    "L = L + ['X', 'Y']\n",
    "print(L)\n",
    "L = ['P', 'Q'] + L\n",
    "print(L)\n",
    "L.remove('RRR')\n",
    "print(L)"
   ]
  },
  {
   "cell_type": "markdown",
   "id": "2f9ac83f",
   "metadata": {},
   "source": [
    "#### Tuples \n",
    "\n",
    "Tuples may be constructed in several ways:\n",
    " - empty tuple: \n",
    "    - `()`\n",
    "    - `tuple()`\n",
    " - a singleton tuple: \n",
    "    - `a,` \n",
    "    - `(a,)`\n",
    " - a multi-element tuple:\n",
    "    - `a, b, c` \n",
    "    - `(a, b, c)`\n",
    "    - `tuple(iterable)`"
   ]
  },
  {
   "cell_type": "code",
   "execution_count": 66,
   "id": "6a9a6be3",
   "metadata": {},
   "outputs": [
    {
     "name": "stdout",
     "output_type": "stream",
     "text": [
      "<class 'str'> a\n",
      "<class 'str'> b\n",
      "<class 'str'> c\n"
     ]
    }
   ],
   "source": [
    "# create some tuples\n",
    "\n",
    "# create some tuples\n",
    "T1 = ()\n",
    "T2 = tuple()\n",
    "T3 = ('a',)\n",
    "T4 = ('a', 'b', 'c')\n",
    "T5 = tuple(x for x in 'def')\n",
    "T6 = tuple('ghi')\n",
    "\n",
    "T_list = [T1, T2, T3, T4, T5, T6]\n",
    "\n",
    "# for T in T_list:\n",
    "#     print(type(T), T)\n",
    "for T in T4:\n",
    "    print(type(T), T)"
   ]
  },
  {
   "cell_type": "markdown",
   "id": "b62580a2",
   "metadata": {},
   "source": [
    "##### Tuple methods\n",
    "\n",
    "Tuples impement all of the [common sequence methods](https://docs.python.org/3/library/stdtypes.html#typesseq-common).\n"
   ]
  },
  {
   "cell_type": "markdown",
   "id": "89a386f7",
   "metadata": {},
   "source": [
    "##### Tuple properties\n",
    "\n",
    "The important properties of tuples are as follows:\n",
    " - elements can be accessed by index (suscriptable)\n",
    " - iterable\n",
    " - immutable\n",
    " - ordered\n",
    " - can contain any arbitrary objects\n",
    " - can be nested to arbitrary depth\n"
   ]
  },
  {
   "cell_type": "code",
   "execution_count": 68,
   "id": "5f2aa423",
   "metadata": {},
   "outputs": [
    {
     "name": "stdout",
     "output_type": "stream",
     "text": [
      "a\n",
      "Slice 1: (3, 4, 5, 6)\n",
      "a\n",
      "b\n",
      "c\n",
      "d\n",
      "e\n",
      "f\n",
      "g\n",
      "False\n",
      "(1, 2.3, 'a', True, (1, 2, 3), <built-in function print>, [1])\n",
      "(1, (2, (3, (4, (5, (6, 7))))))\n",
      "7\n"
     ]
    }
   ],
   "source": [
    "# single element selection, slice, change an element, iterate, ordered, arbitrary objects, nesting\n",
    "\n",
    "# single element selection\n",
    "T = ('a', 'b', 'c', 'd', 'e', 'f', 'g')\n",
    "print(T[0])\n",
    "\n",
    "# slice\n",
    "my_tuple = (1, 2, 3, 4, 5, 6, 7, 8, 9, 10)\n",
    "slice_1 = my_tuple[2:6]\n",
    "print(\"Slice 1:\", slice_1)\n",
    "\n",
    "# change an element (Tuples are immutable, so this operation is not possible)\n",
    "# T[0] = 999\n",
    "\n",
    "# iterate over a tuple\n",
    "for item in T:\n",
    "    print(item)\n",
    "\n",
    "# ordered\n",
    "print((1, 2, 3) == (2, 3, 1))\n",
    "\n",
    "# arbitrary objects\n",
    "print((1, 2.3, 'a', True, (1, 2, 3), print,[1]))\n",
    "\n",
    "# nesting\n",
    "T1 = (1, (2, (3, (4, (5, (6, 7))))))\n",
    "print(T1)\n",
    "print(T1[1][1][1][1][1][1])\n"
   ]
  },
  {
   "cell_type": "code",
   "execution_count": 97,
   "id": "d5d9057a",
   "metadata": {},
   "outputs": [
    {
     "data": {
      "text/plain": [
       "6"
      ]
     },
     "execution_count": 97,
     "metadata": {},
     "output_type": "execute_result"
    }
   ],
   "source": [
    "my_tuple = (1, 2,2,2,2,2,2, 3, 4, 5, 6, 7, 8, 9, 10)\n",
    "\n",
    "my_tuple.count(2)"
   ]
  },
  {
   "cell_type": "markdown",
   "id": "61d2a96c",
   "metadata": {},
   "source": [
    "#### `range` function"
   ]
  },
  {
   "cell_type": "markdown",
   "id": "765b34bf",
   "metadata": {},
   "source": [
    "The range object is:\n",
    " - suscriptable\n",
    " - iterable\n",
    " - immutable\n",
    " - ordered\n",
    "\n",
    "However, you will generally see it used for loops, so the iterable property is the only one typcially seen. "
   ]
  },
  {
   "cell_type": "code",
   "execution_count": 73,
   "id": "1e4457dc",
   "metadata": {},
   "outputs": [
    {
     "name": "stdout",
     "output_type": "stream",
     "text": [
      "1\n",
      "3\n",
      "5\n",
      "7\n",
      "9\n"
     ]
    }
   ],
   "source": [
    "# basic use of range\n",
    "for i in range(5):\n",
    "    print(i)\n",
    "\n",
    "# change start index\n",
    "for i in range(2, 7):\n",
    "    print(i)\n",
    "\n",
    "# change step size\n",
    "for i in range(1, 10, 2):\n",
    "    print(i)\n"
   ]
  },
  {
   "cell_type": "markdown",
   "id": "d090831e",
   "metadata": {},
   "source": [
    "### Set types: `set`\n",
    "\n",
    " - using braces:\n",
    "    - separating items with commas: `{'a', 'b', 'c'}`\n",
    " - set comprehension: \n",
    "    - `{ch for ch in 'abc'}`\n",
    " - type constructor: \n",
    "    - empty list: `set()` \n",
    "    - from iterable: `set(iterable)`\n",
    "\n"
   ]
  },
  {
   "cell_type": "code",
   "execution_count": 74,
   "id": "d0df0ba6",
   "metadata": {},
   "outputs": [
    {
     "name": "stdout",
     "output_type": "stream",
     "text": [
      "<class 'set'> set()\n",
      "<class 'set'> {'c', 'b', 'a'}\n",
      "<class 'set'> {'c', 'b', 'a'}\n",
      "<class 'set'> {'d', 'b', 'c', 'e', 'a'}\n"
     ]
    }
   ],
   "source": [
    "# create some sets \n",
    "# S1 = {}  this is a DICTIONARY!!!\n",
    "S2 = set()\n",
    "S3 = {'a', 'b', 'c'}\n",
    "S4 = {ch for ch in 'abc'}\n",
    "S5 = set('aabbcccdddeee')\n",
    "\n",
    "S_list = [S2, S3, S4, S5]\n",
    "\n",
    "for S in S_list:\n",
    "    print(type(S), S)\n"
   ]
  },
  {
   "cell_type": "markdown",
   "id": "3817e2e4",
   "metadata": {},
   "source": [
    "#### Set methods/operations\n",
    "\n",
    "Sets implement various [methods/operations](https://docs.python.org/3/library/stdtypes.html#set) as noted in the docs."
   ]
  },
  {
   "cell_type": "markdown",
   "id": "1397c4c8",
   "metadata": {},
   "source": [
    "##### Set properties\n",
    "\n",
    "The important properties of sets are as follows:\n",
    " - elements are unique\n",
    " - not subscriptable\n",
    " - iterable\n",
    " - mutable\n",
    " - unordered\n",
    " - elements must be hashable \n"
   ]
  },
  {
   "cell_type": "code",
   "execution_count": 93,
   "id": "c6262fb0",
   "metadata": {},
   "outputs": [
    {
     "name": "stdout",
     "output_type": "stream",
     "text": [
      "{'d', 'b', 'c', 'e', 'a'}\n",
      "d\n",
      "b\n",
      "c\n",
      "e\n",
      "a\n",
      "{'f', 'd', 'b', 'c', 'e', 'a'}\n",
      "{'f', 'd', 'b', 'c', 'e'}\n",
      "dog  {'f', 'd', 'j', 'g', 'l', 'k', 'b', 'h', 'c', 'e', 'i'}\n",
      "{(1, 2), 'b', 'a'}\n",
      "{'f', 'd', 'g', 'b', 'c', 'e', 'a'}\n",
      "{'c', 'd', 'e'}\n"
     ]
    }
   ],
   "source": [
    "# unique elements\n",
    "S5 = set('aabbcccdddeee')\n",
    "print(S5)\n",
    "\n",
    "# not subscriptable\n",
    "# S5[0]  # raises an error\n",
    "\n",
    "# iterable\n",
    "for item in S5:\n",
    "    print(item)\n",
    "\n",
    "# mutable: add, remove, update\n",
    "S5.add('f')\n",
    "print(S5)\n",
    "S5.remove('a')\n",
    "print(S5)\n",
    "S5.update('bcdefghijkl')\n",
    "print(\"dog \",S5)\n",
    "\n",
    "# elements must be hashable\n",
    "S = {'a', (1,2), 'b'}  # raises an error\n",
    "print (S)\n",
    "\n",
    "# union, intersection\n",
    "S1 = set('abcde')\n",
    "S2 = set('cdefg')\n",
    "\n",
    "print(S1.union(S2))\n",
    "print(S1.intersection(S2))"
   ]
  },
  {
   "cell_type": "markdown",
   "id": "18e7a8d1",
   "metadata": {},
   "source": [
    "### Mapping types: `dict`"
   ]
  },
  {
   "cell_type": "markdown",
   "id": "efed57f6",
   "metadata": {},
   "source": [
    "#### Dictionary \n",
    "\n",
    "Lists may be constructed in several ways:\n",
    "\n",
    " - using `key:value` pairs with braces:\n",
    "    - empty list: `{}`\n",
    "    - separating items with commas: `{'a':1, 'b':2, 'c':3}`\n",
    " - dictionary comprehension: \n",
    "    - `{x:x**2 for x in range(10)}`\n",
    " - type constructor: \n",
    "    - empty list: `dict()` \n",
    "    - from iterable: `dict([('a', 1), ('b', 2), ('c', 3)])`, `dict(a=1, b=2, c=3)`"
   ]
  },
  {
   "cell_type": "code",
   "execution_count": 81,
   "id": "33496d72",
   "metadata": {},
   "outputs": [
    {
     "name": "stdout",
     "output_type": "stream",
     "text": [
      "<class 'dict'> {}\n",
      "<class 'dict'> {}\n",
      "<class 'dict'> {'a': 1, 'b': 2, 'c': 3}\n",
      "<class 'dict'> {0: 0, 1: 1, 2: 4, 3: 9, 4: 16, 5: 25, 6: 36, 7: 49, 8: 64, 9: 81}\n",
      "<class 'dict'> {'a': 1, 'b': 2, 'c': 3}\n",
      "<class 'dict'> {'a': 1, 'b': 2, 'c': 3}\n"
     ]
    }
   ],
   "source": [
    "# create some dictionaries\n",
    "\n",
    "D1 = {}\n",
    "D2 = dict()\n",
    "D3 = {'a':1, 'b':2, 'c':3}\n",
    "D4 = {x:x**2 for x in range(10)}\n",
    "D5 = dict([('a', 1), ('b', 2), ('c', 3)])\n",
    "D6 = dict(a=1, b=2, c=3)\n",
    "\n",
    "D_list = [D1, D2, D3, D4, D5, D6]\n",
    "\n",
    "for D in D_list:\n",
    "    print(type(D), D)"
   ]
  },
  {
   "cell_type": "markdown",
   "id": "8c357436",
   "metadata": {},
   "source": [
    "#### Dictionary operations\n",
    "\n",
    "Dictionaries various [methods/operations](https://docs.python.org/3/library/stdtypes.html#dict) as noted in the docs."
   ]
  },
  {
   "cell_type": "markdown",
   "id": "928c9322",
   "metadata": {},
   "source": [
    "##### Dictionary  properties\n",
    "\n",
    "The important properties of dictionaries are as follows:\n",
    " - access values by keys\n",
    " - iterable\n",
    " - mutable\n",
    " - unordered\n",
    " - keys must be hashable\n",
    " - can be nested\n",
    " - dynamic\n"
   ]
  },
  {
   "cell_type": "code",
   "execution_count": 82,
   "id": "3c0bd246",
   "metadata": {},
   "outputs": [
    {
     "name": "stdout",
     "output_type": "stream",
     "text": [
      "1\n",
      "dict_keys(['a', 'b', 'c'])\n",
      "dict_values([1, 2, 3])\n",
      "dict_items([('a', 1), ('b', 2), ('c', 3)])\n",
      "a 1\n",
      "b 2\n",
      "c 3\n",
      "a 1\n",
      "b 2\n",
      "c 3\n",
      "1\n",
      "2\n",
      "3\n",
      "a 1\n",
      "b 2\n",
      "c 3\n",
      "{'a': 1, 'b': 2, 'c': 3, 'd': 4}\n",
      "{'b': 2, 'c': 3, 'd': 4}\n",
      "{'b': 2, 'c': 3, 'd': 4, 'e': 5, 'g': 6}\n",
      "['b', 'c', 'd', 'e', 'g']\n",
      "{'b': 2, 'c': 3, 'd': 4, 'e': 5, 'g': 6, 'f': [1, 2, 3]}\n",
      "{'b': 2, 'c': 3, 'd': 4, 'e': 5, 'g': {'h': {'i': {'j': 6}}}, 'f': [1, 2, 3]}\n"
     ]
    }
   ],
   "source": [
    "# access via key, keys, values, items, iterate, mutable: d[k]=v, del, update, ordered, arbitrary objects, nesting\n",
    "D6 = dict(a=1, b=2, c=3)\n",
    "\n",
    "# access via key\n",
    "print(D6['a'])\n",
    "\n",
    "# keys\n",
    "print(D6.keys())\n",
    "\n",
    "# values\n",
    "print(D6.values())\n",
    "\n",
    "# items\n",
    "print(D6.items())\n",
    "\n",
    "# iterate over keys\n",
    "for k in D6:\n",
    "    print(k, D6[k])\n",
    "\n",
    "for k in D6.keys():\n",
    "    print(k, D6[k])\n",
    "\n",
    "# iterate over values\n",
    "for v in D6.values():\n",
    "    print(v)\n",
    "\n",
    "# iterate over key-value pairs\n",
    "for k, v in D6.items():\n",
    "    print(k, v)\n",
    "\n",
    "# mutable: d[k]=v\n",
    "D6['d'] = 4\n",
    "print(D6)\n",
    "\n",
    "# del\n",
    "del D6['a']\n",
    "print(D6)\n",
    "\n",
    "# update\n",
    "D6.update({'e': 5, 'g': 6})\n",
    "print(D6)\n",
    "\n",
    "# ordered\n",
    "print(sorted(D6))\n",
    "\n",
    "# arbitrary objects\n",
    "D6['f'] = [1, 2, 3]\n",
    "print(D6)\n",
    "\n",
    "# nesting\n",
    "D6['g'] = {'h': {'i': {'j': 6}}}\n",
    "print(D6)\n"
   ]
  },
  {
   "cell_type": "code",
   "execution_count": 91,
   "id": "a671cd18",
   "metadata": {},
   "outputs": [
    {
     "name": "stdout",
     "output_type": "stream",
     "text": [
      "a 1\n",
      "b 2\n",
      "c 3\n"
     ]
    }
   ],
   "source": [
    "D6 = dict(a=1, b=2, c=3)\n",
    "# for k in D6:\n",
    "#     print(k, D6[k])\n",
    "\n",
    "for k in D6.keys():\n",
    "    print(k, D6[k])\n",
    "\n",
    "# # iterate over values\n",
    "# for v in D6.values():\n",
    "#     print(v)"
   ]
  },
  {
   "cell_type": "code",
   "execution_count": 100,
   "id": "8fcd74ac",
   "metadata": {},
   "outputs": [
    {
     "name": "stdout",
     "output_type": "stream",
     "text": [
      "0 a\n",
      "dict_keys(['a', 'b', 'c'])\n",
      "1 b\n",
      "dict_keys(['a', 'b', 'c'])\n",
      "2 c\n",
      "dict_keys(['a', 'b', 'c'])\n"
     ]
    }
   ],
   "source": [
    "for k,v in enumerate(D6):\n",
    "    print(k,v)\n",
    "    print (D6.keys())"
   ]
  }
 ],
 "metadata": {
  "kernelspec": {
   "display_name": "Python 3 (ipykernel)",
   "language": "python",
   "name": "python3"
  },
  "language_info": {
   "codemirror_mode": {
    "name": "ipython",
    "version": 3
   },
   "file_extension": ".py",
   "mimetype": "text/x-python",
   "name": "python",
   "nbconvert_exporter": "python",
   "pygments_lexer": "ipython3",
   "version": "3.12.1"
  }
 },
 "nbformat": 4,
 "nbformat_minor": 5
}
