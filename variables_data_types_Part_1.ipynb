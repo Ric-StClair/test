{
 "cells": [
  {
   "cell_type": "markdown",
   "id": "4fbe4e5d-4969-40f3-8396-a2828326783d",
   "metadata": {},
   "source": [
    "# Part 1: Variables, Data Types, Operators, and Conditional Logic"
   ]
  },
  {
   "cell_type": "markdown",
   "id": "cba6b240-aa7f-4d3a-bb73-c65281e66d29",
   "metadata": {},
   "source": [
    "### Variables\n",
    "\n",
    "Why do we need variables?\n",
    " - make values accessible\n",
    " - provide context\n",
    " - easier to change code\n",
    " \n",
    "Naming conventions\n",
    " - should use `snake_case` (same as functions, but classes use `CapitalizedWords`; see [PEP8](https://pep8.org/); PEP = Python enhancement protocol) \n",
    " - can have digits \n",
    " - cannot start with a digit\n",
    " - descriptive names are better than short names\n",
    " - avoid using Python's reserved keywords, like `print`, `len`, etc. \n",
    " \n",
    "> Consistency is what is most important!\n",
    " "
   ]
  },
  {
   "cell_type": "code",
   "execution_count": 1,
   "id": "9aa171fb",
   "metadata": {},
   "outputs": [
    {
     "data": {
      "text/plain": [
       "68.0"
      ]
     },
     "execution_count": 1,
     "metadata": {},
     "output_type": "execute_result"
    }
   ],
   "source": [
    "temp_F =((9/5) *20 +32)\n",
    "temp_F\n"
   ]
  },
  {
   "cell_type": "markdown",
   "id": "fa773840-0cfa-4313-9282-6f5737c02936",
   "metadata": {},
   "source": [
    "\n",
    "<center><img src=\"variable_pointer.png\" alt=\"Drawing\" style=\"width: 600px;\"/><br><br>\n",
    "(source: realpython.com)</center>"
   ]
  },
  {
   "cell_type": "code",
   "execution_count": 2,
   "id": "690ff011",
   "metadata": {},
   "outputs": [
    {
     "name": "stdout",
     "output_type": "stream",
     "text": [
      "1235244230640\n",
      "1235244230640\n",
      "1235200763120\n",
      "1235244229712\n"
     ]
    }
   ],
   "source": [
    "n = 300\n",
    "print(id(n))\n",
    "m = n\n",
    "print(id(m))\n",
    "n = \"foo\"\n",
    "print(id(n))\n",
    "m = 400\n",
    "print(id(m))\n"
   ]
  },
  {
   "cell_type": "markdown",
   "id": "b2cec478",
   "metadata": {},
   "source": [
    "## Data types\n",
    "\n",
    "A [full list](https://docs.python.org/3/library/stdtypes.html#) of data types is available in the documentation. For the moment, we will focus on a few of the most basic, most often used data types:\n",
    "\n",
    " - numeric\n",
    " - string\n",
    " - boolean\n",
    " - lists\n",
    " - tuples\n",
    " - dictionaries\n",
    " - sets"
   ]
  },
  {
   "cell_type": "markdown",
   "id": "6df87581-4d8d-4270-8dca-72211f5d411b",
   "metadata": {
    "tags": []
   },
   "source": [
    "### Numeric, boolean, and text data Types\n",
    "\n",
    " \n",
    " - integers\n",
    " - floats\n",
    " - strings\n",
    " - boolean\n",
    " "
   ]
  },
  {
   "cell_type": "code",
   "execution_count": null,
   "id": "63a8f9f8",
   "metadata": {},
   "outputs": [],
   "source": [
    "my_int = 0.1\n",
    "my_float = 5.0\n",
    "my_string = \"this is a string\"\n",
    "my_bool = True"
   ]
  },
  {
   "cell_type": "markdown",
   "id": "d8c5a66b-1983-4050-b906-d6f0736489c2",
   "metadata": {},
   "source": [
    "#### Type Casting"
   ]
  },
  {
   "cell_type": "code",
   "execution_count": 7,
   "id": "704a971a",
   "metadata": {},
   "outputs": [
    {
     "data": {
      "text/plain": [
       "bool"
      ]
     },
     "execution_count": 7,
     "metadata": {},
     "output_type": "execute_result"
    }
   ],
   "source": [
    "# int to float\n",
    "type(my_bool)"
   ]
  },
  {
   "cell_type": "code",
   "execution_count": 13,
   "id": "3281e81a",
   "metadata": {},
   "outputs": [
    {
     "data": {
      "text/plain": [
       "'aaaaa'"
      ]
     },
     "execution_count": 13,
     "metadata": {},
     "output_type": "execute_result"
    }
   ],
   "source": [
    "5*'a'"
   ]
  },
  {
   "cell_type": "code",
   "execution_count": 3,
   "id": "177bfacb",
   "metadata": {},
   "outputs": [
    {
     "data": {
      "text/plain": [
       "False"
      ]
     },
     "execution_count": 3,
     "metadata": {},
     "output_type": "execute_result"
    }
   ],
   "source": [
    "# int to boolean\n",
    "bool(int(0.1))"
   ]
  },
  {
   "cell_type": "code",
   "execution_count": null,
   "id": "02a6c58d",
   "metadata": {},
   "outputs": [],
   "source": [
    "# try out other combinations (to convert to integer use int())"
   ]
  },
  {
   "cell_type": "markdown",
   "id": "72f69c1f-3577-4e2c-af84-20502e2b5c0b",
   "metadata": {
    "tags": []
   },
   "source": [
    "#### Operators\n",
    "\n",
    " - `+` \n",
    " - `-` \n",
    " - `*` \n",
    " - `**`  \n",
    " - `//` \n",
    " - `%`\n",
    "\n",
    " Augmented assignment:\n",
    "  - `+=`\n",
    "  - `-=`\n",
    "  - `*=`\n",
    "  - `/=`"
   ]
  },
  {
   "cell_type": "code",
   "execution_count": 29,
   "id": "fe5d3862",
   "metadata": {},
   "outputs": [],
   "source": []
  },
  {
   "cell_type": "markdown",
   "id": "aaed6d62-1b50-4b0c-8596-b79cd898e65b",
   "metadata": {},
   "source": [
    "##### Linear congruential generator\n",
    "$$\n",
    "X_{n+1} = (aX_n + c) \\, \\rm{mod} \\; m\n",
    "$$\n",
    "\n",
    "where `mod` (modulo) is the same operation as `%`."
   ]
  },
  {
   "cell_type": "code",
   "execution_count": 14,
   "id": "4b43a24a-9048-47fb-8ce3-93e8775a223b",
   "metadata": {
    "tags": []
   },
   "outputs": [
    {
     "name": "stdout",
     "output_type": "stream",
     "text": [
      "10\n",
      "17\n",
      "4\n",
      "1\n",
      "12\n",
      "16\n",
      "14\n",
      "15\n",
      "5\n",
      "10\n",
      "17\n",
      "4\n",
      "1\n",
      "12\n",
      "16\n",
      "14\n",
      "15\n",
      "5\n",
      "10\n",
      "17\n"
     ]
    }
   ],
   "source": [
    "a = 9\n",
    "c = 3\n",
    "m = 19\n",
    "\n",
    "x = 5\n",
    "\n",
    "for i in range(20):\n",
    "    x = (a*x + c) % m\n",
    "    print(x)"
   ]
  },
  {
   "cell_type": "markdown",
   "id": "201430a5-b4f5-45a0-b50f-411dc59dc416",
   "metadata": {},
   "source": [
    "##### Operator precedence\n",
    "\n",
    "A full list of [operator precedence](https://docs.python.org/3/reference/expressions.html#operator-summary) can be found in the documentation. \n",
    "\n",
    "- brackets\n",
    "- subscripting\n",
    "- exponents\n",
    "- multiplication/division/integer division (`//`)/remainder division `%`\n",
    "- addition/subtraction\n"
   ]
  },
  {
   "cell_type": "code",
   "execution_count": null,
   "id": "14621d57",
   "metadata": {},
   "outputs": [],
   "source": []
  },
  {
   "cell_type": "markdown",
   "id": "6051db8c-80d4-469c-86f5-8029934ea0b5",
   "metadata": {
    "tags": []
   },
   "source": [
    "### Conditional Logic\n",
    "\n",
    "boolean comparators\n",
    "\n",
    "- equal to `==`\n",
    "- not equal to `!=`\n",
    "- greater than `>`\n",
    "- less than `<`\n",
    "- greater than or equal to `>=`\n",
    "- less than or equal to `<=`"
   ]
  },
  {
   "cell_type": "code",
   "execution_count": 36,
   "id": "3d22cce6",
   "metadata": {},
   "outputs": [
    {
     "data": {
      "text/plain": [
       "True"
      ]
     },
     "execution_count": 36,
     "metadata": {},
     "output_type": "execute_result"
    }
   ],
   "source": []
  }
 ],
 "metadata": {
  "kernelspec": {
   "display_name": "Python 3 (ipykernel)",
   "language": "python",
   "name": "python3"
  },
  "language_info": {
   "codemirror_mode": {
    "name": "ipython",
    "version": 3
   },
   "file_extension": ".py",
   "mimetype": "text/x-python",
   "name": "python",
   "nbconvert_exporter": "python",
   "pygments_lexer": "ipython3",
   "version": "3.12.1"
  }
 },
 "nbformat": 4,
 "nbformat_minor": 5
}
