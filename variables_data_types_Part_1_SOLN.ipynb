{
 "cells": [
  {
   "cell_type": "markdown",
   "id": "4fbe4e5d-4969-40f3-8396-a2828326783d",
   "metadata": {},
   "source": [
    "# Part 1: Variables, Data Types, Operators, and Conditional Logic"
   ]
  },
  {
   "cell_type": "markdown",
   "id": "cba6b240-aa7f-4d3a-bb73-c65281e66d29",
   "metadata": {},
   "source": [
    "### Variables\n",
    "\n",
    "Why do we need variables?\n",
    " - make values accessible\n",
    " - provide context\n",
    " - easier to change code\n",
    " \n",
    "Naming conventions\n",
    " - should use `snake_case` (same as functions, but classes use `CapitalizedWords`; see [PEP8](https://pep8.org/); PEP = Python enhancement protocol) \n",
    " - can have digits \n",
    " - cannot start with a digit\n",
    " - descriptive names are better than short names\n",
    " - avoid using Python's reserved keywords, like `print`, `len`, etc. \n",
    " \n",
    "> Consistency is what is most important!\n",
    " "
   ]
  },
  {
   "cell_type": "code",
   "execution_count": null,
   "id": "34b1208b",
   "metadata": {},
   "outputs": [],
   "source": [
    "# allowed variable names\n",
    "\n",
    "xyz = 1\n",
    "XYZ = 2\n",
    "xXyYzZ = 3\n",
    "x1y2z3 = 4\n",
    "x_y_z = 5\n",
    "\n",
    "# not allowed variable names\n",
    "\n",
    "1xyz = 1\n",
    "x-y-z = 2\n",
    "x y z = 3\n",
    "x.y.z = 4\n",
    "\n",
    "# python convention for variable names: snake case\n",
    "\n",
    "my_variable = 1\n"
   ]
  },
  {
   "cell_type": "markdown",
   "id": "fa773840-0cfa-4313-9282-6f5737c02936",
   "metadata": {},
   "source": [
    "\n",
    "<center><img src=\"variable_pointer.png\" alt=\"Drawing\" style=\"width: 600px;\"/><br><br>\n",
    "(source: realpython.com)</center>"
   ]
  },
  {
   "cell_type": "code",
   "execution_count": 1,
   "id": "690ff011",
   "metadata": {},
   "outputs": [
    {
     "name": "stdout",
     "output_type": "stream",
     "text": [
      "1584374933296\n",
      "1584374933296\n",
      "1584331384336\n",
      "1584374933104\n"
     ]
    }
   ],
   "source": [
    "n = 300\n",
    "print(id(n))\n",
    "\n",
    "m = n\n",
    "print(id(m))\n",
    "\n",
    "n = \"foo\"\n",
    "print(id(n))\n",
    "\n",
    "m = 400\n",
    "print(id(m))\n"
   ]
  },
  {
   "cell_type": "markdown",
   "id": "b2cec478",
   "metadata": {},
   "source": [
    "## Data types\n",
    "\n",
    "A [full list](https://docs.python.org/3/library/stdtypes.html#) of data types is available in the documentation. For the moment, we will focus on a few of the most basic, most often used data types:\n",
    "\n",
    " - numeric\n",
    " - string\n",
    " - boolean\n",
    " - lists\n",
    " - tuples\n",
    " - dictionaries\n",
    " - sets"
   ]
  },
  {
   "cell_type": "markdown",
   "id": "6df87581-4d8d-4270-8dca-72211f5d411b",
   "metadata": {
    "tags": []
   },
   "source": [
    "### Numeric, boolean, and text data Types\n",
    "\n",
    " \n",
    " - integers\n",
    " - floats\n",
    " - strings\n",
    " - boolean\n",
    " "
   ]
  },
  {
   "cell_type": "code",
   "execution_count": 1,
   "id": "63a8f9f8",
   "metadata": {},
   "outputs": [],
   "source": [
    "my_int = 5\n",
    "my_float = 9.3\n",
    "my_string = \"this is a string\"\n",
    "my_bool = True"
   ]
  },
  {
   "cell_type": "markdown",
   "id": "d8c5a66b-1983-4050-b906-d6f0736489c2",
   "metadata": {},
   "source": [
    "#### Type Casting"
   ]
  },
  {
   "cell_type": "code",
   "execution_count": 8,
   "id": "704a971a",
   "metadata": {},
   "outputs": [
    {
     "data": {
      "text/plain": [
       "5.0"
      ]
     },
     "execution_count": 8,
     "metadata": {},
     "output_type": "execute_result"
    }
   ],
   "source": [
    "# int to float\n",
    "float(my_int)\n"
   ]
  },
  {
   "cell_type": "code",
   "execution_count": 3,
   "id": "3281e81a",
   "metadata": {},
   "outputs": [
    {
     "data": {
      "text/plain": [
       "5"
      ]
     },
     "execution_count": 3,
     "metadata": {},
     "output_type": "execute_result"
    }
   ],
   "source": [
    "# int to string\n",
    "str(my_int)\n"
   ]
  },
  {
   "cell_type": "code",
   "execution_count": 5,
   "id": "177bfacb",
   "metadata": {},
   "outputs": [
    {
     "data": {
      "text/plain": [
       "int"
      ]
     },
     "execution_count": 5,
     "metadata": {},
     "output_type": "execute_result"
    }
   ],
   "source": [
    "# int to boolean\n",
    "bool(my_int)"
   ]
  },
  {
   "cell_type": "code",
   "execution_count": null,
   "id": "02a6c58d",
   "metadata": {},
   "outputs": [],
   "source": [
    "# try out other combinations (to convert to integer use int())\n",
    "# make sure you play around with bool() to see what values are considered True or False\n",
    "\n"
   ]
  },
  {
   "cell_type": "code",
   "execution_count": null,
   "id": "c7a1f2e7",
   "metadata": {},
   "outputs": [],
   "source": []
  },
  {
   "cell_type": "markdown",
   "id": "72f69c1f-3577-4e2c-af84-20502e2b5c0b",
   "metadata": {
    "tags": []
   },
   "source": [
    "#### Operators\n",
    "\n",
    " - `+` \n",
    " - `-` \n",
    " - `*` \n",
    " - `**`  \n",
    " - `//` \n",
    " - `%`\n",
    "\n",
    " Augmented assignment:\n",
    "  - `+=`\n",
    "  - `-=`\n",
    "  - `*=`\n",
    "  - `/=`"
   ]
  },
  {
   "cell_type": "code",
   "execution_count": 2,
   "id": "4e388d18",
   "metadata": {},
   "outputs": [
    {
     "name": "stdout",
     "output_type": "stream",
     "text": [
      "Addition (int): 8\n",
      "Subtraction (int): 2\n",
      "Multiplication (int): 15\n",
      "Exponentiation (int): 125\n",
      "Integer Division (int): 1\n",
      "Remainder Division (int): 2\n",
      "Addition (float): 8.0\n",
      "Subtraction (float): 2.0\n",
      "Multiplication (float): 15.0\n",
      "Exponentiation (float): 125.0\n",
      "Integer Division (float): 1.0\n",
      "Remainder Division (float): 2.0\n",
      "Concatenation (str): HelloWorld\n",
      "Repetition (str): HelloHelloHello\n",
      "Logical AND (bool): False\n",
      "Logical OR (bool): True\n",
      "Logical NOT (bool): False\n"
     ]
    }
   ],
   "source": [
    "# Integer operations\n",
    "a = 5\n",
    "b = 3\n",
    "\n",
    "addition_int = a + b\n",
    "print(\"Addition (int):\", addition_int)\n",
    "\n",
    "subtraction_int = a - b\n",
    "print(\"Subtraction (int):\", subtraction_int)\n",
    "\n",
    "multiplication_int = a * b\n",
    "print(\"Multiplication (int):\", multiplication_int)\n",
    "\n",
    "exponentiation_int = a ** b\n",
    "print(\"Exponentiation (int):\", exponentiation_int)\n",
    "\n",
    "integer_division_int = a // b\n",
    "print(\"Integer Division (int):\", integer_division_int)\n",
    "\n",
    "remainder_division_int = a % b\n",
    "print(\"Remainder Division (int):\", remainder_division_int)\n",
    "\n",
    "\n",
    "# Float operations\n",
    "c = 5.0\n",
    "d = 3.0\n",
    "\n",
    "addition_float = c + d\n",
    "print(\"Addition (float):\", addition_float)\n",
    "\n",
    "subtraction_float = c - d\n",
    "print(\"Subtraction (float):\", subtraction_float)\n",
    "\n",
    "multiplication_float = c * d\n",
    "print(\"Multiplication (float):\", multiplication_float)\n",
    "\n",
    "exponentiation_float = c ** d\n",
    "print(\"Exponentiation (float):\", exponentiation_float)\n",
    "\n",
    "integer_division_float = c // d\n",
    "print(\"Integer Division (float):\", integer_division_float)\n",
    "\n",
    "remainder_division_float = c % d\n",
    "print(\"Remainder Division (float):\", remainder_division_float)\n",
    "\n",
    "\n",
    "# String operations\n",
    "e = \"Hello\"\n",
    "f = \"World\"\n",
    "\n",
    "concatenation_str = e + f\n",
    "print(\"Concatenation (str):\", concatenation_str)\n",
    "\n",
    "repetition_str = e * 3\n",
    "print(\"Repetition (str):\", repetition_str)\n",
    "\n",
    "\n",
    "# Boolean operations\n",
    "g = True\n",
    "h = False\n",
    "\n",
    "logical_and_bool = g and h\n",
    "print(\"Logical AND (bool):\", logical_and_bool)\n",
    "\n",
    "logical_or_bool = g or h\n",
    "print(\"Logical OR (bool):\", logical_or_bool)\n",
    "\n",
    "logical_not_bool = not g\n",
    "print(\"Logical NOT (bool):\", logical_not_bool)\n"
   ]
  },
  {
   "cell_type": "markdown",
   "id": "aaed6d62-1b50-4b0c-8596-b79cd898e65b",
   "metadata": {},
   "source": [
    "##### Linear congruential generator"
   ]
  },
  {
   "cell_type": "markdown",
   "id": "6ade328c",
   "metadata": {},
   "source": [
    "A linear congruential generator (LCG) is a type of random number generator that produces a sequence of numbers based on a simple mathematical formula. It is called \"linear\" because the formula involves multiplying the previous number by a constant and adding another constant.\n",
    "\n",
    "The formula for an LCG is:\n",
    "$$\n",
    "X_{n+1} = (aX_n + c) \\, \\rm{mod} \\; m\n",
    "$$\n",
    "\n",
    "where $X_{n+1} = next number in sequence, $X_n$ is previous number in sequence, $a$, $c$, and $m$ are constants, and `mod` (modulo) is the same operation as `%`, remainder division."
   ]
  },
  {
   "cell_type": "code",
   "execution_count": 4,
   "id": "4b43a24a-9048-47fb-8ce3-93e8775a223b",
   "metadata": {
    "tags": []
   },
   "outputs": [
    {
     "name": "stdout",
     "output_type": "stream",
     "text": [
      "10\n",
      "17\n",
      "4\n"
     ]
    }
   ],
   "source": [
    "a = 9\n",
    "c = 3\n",
    "m = 19\n",
    "\n",
    "x = 5\n",
    "\n",
    "for i in range(3):\n",
    "    x = (a*x + c) % m\n",
    "    print(x)"
   ]
  },
  {
   "cell_type": "markdown",
   "id": "201430a5-b4f5-45a0-b50f-411dc59dc416",
   "metadata": {},
   "source": [
    "##### Operator precedence\n",
    "\n",
    "A full list of [operator precedence](https://docs.python.org/3/reference/expressions.html#operator-summary) can be found in the documentation. \n",
    "\n",
    "- brackets\n",
    "- subscripting\n",
    "- exponents\n",
    "- multiplication/division/integer division (`//`)/remainder division `%`\n",
    "- addition/subtraction\n"
   ]
  },
  {
   "cell_type": "code",
   "execution_count": 6,
   "id": "14621d57",
   "metadata": {},
   "outputs": [
    {
     "name": "stdout",
     "output_type": "stream",
     "text": [
      "14\n",
      "20\n",
      "11\n",
      "25\n",
      "25.0\n",
      "1.0\n",
      "3\n"
     ]
    }
   ],
   "source": [
    "# Example 1\n",
    "result = 2 + 3 * 4\n",
    "print(result)  # Output: 14\n",
    "\n",
    "# Example 2\n",
    "result = (2 + 3) * 4\n",
    "print(result)  # Output: 20\n",
    "\n",
    "# Example 3\n",
    "result = 2 + 3 ** 2\n",
    "print(result)  # Output: 11\n",
    "\n",
    "# Example 4\n",
    "result = (2 + 3) ** 2\n",
    "print(result)  # Output: 25\n",
    "\n",
    "# Example 5\n",
    "result = 10 / 2 * 5\n",
    "print(result)  # Output: 25.0\n",
    "\n",
    "# Example 6\n",
    "result = 10 / (2 * 5)\n",
    "print(result)  # Output: 1.0\n",
    "\n",
    "result = 10 // 3\n",
    "print(result)  # Output: 1.0\n"
   ]
  },
  {
   "cell_type": "markdown",
   "id": "6051db8c-80d4-469c-86f5-8029934ea0b5",
   "metadata": {
    "tags": []
   },
   "source": [
    "### Conditional Logic\n",
    "\n",
    "boolean comparators\n",
    "\n",
    "- equal to `==`\n",
    "- not equal to `!=`\n",
    "- greater than `>`\n",
    "- less than `<`\n",
    "- greater than or equal to `>=`\n",
    "- less than or equal to `<=`"
   ]
  },
  {
   "cell_type": "code",
   "execution_count": null,
   "id": "16479e58",
   "metadata": {},
   "outputs": [],
   "source": [
    "# equal to\n",
    "x = 5\n",
    "if x == 5:\n",
    "    print(\"x is equal to 5\")\n",
    "\n",
    "# not equal to\n",
    "y = 10\n",
    "if y != 5:\n",
    "    print(\"y is not equal to 5\")\n",
    "\n",
    "# greater than\n",
    "z = 7\n",
    "if z > 5:\n",
    "    print(\"z is greater than 5\")\n",
    "\n",
    "# less than\n",
    "w = 3\n",
    "if w < 5:\n",
    "    print(\"w is less than 5\")\n",
    "\n",
    "# greater than or equal to\n",
    "a = 5\n",
    "if a >= 5:\n",
    "    print(\"a is greater than or equal to 5\")\n",
    "\n",
    "# less than or equal to\n",
    "b = 5\n",
    "if b <= 5:\n",
    "    print(\"b is less than or equal to 5\")\n"
   ]
  }
 ],
 "metadata": {
  "kernelspec": {
   "display_name": "Python 3 (ipykernel)",
   "language": "python",
   "name": "python3"
  },
  "language_info": {
   "codemirror_mode": {
    "name": "ipython",
    "version": 3
   },
   "file_extension": ".py",
   "mimetype": "text/x-python",
   "name": "python",
   "nbconvert_exporter": "python",
   "pygments_lexer": "ipython3",
   "version": "3.12.1"
  }
 },
 "nbformat": 4,
 "nbformat_minor": 5
}
