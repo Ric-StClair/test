{
 "cells": [
  {
   "cell_type": "markdown",
   "id": "4fbe4e5d-4969-40f3-8396-a2828326783d",
   "metadata": {},
   "source": [
    "# Part 2: Variables, Data Types, Operators, and Conditional Logic"
   ]
  },
  {
   "cell_type": "markdown",
   "id": "ee094192-3c84-442f-a918-fd3b9c269d32",
   "metadata": {
    "tags": []
   },
   "source": [
    "### Sequence types: `list`, `tuple`, and `range`\n"
   ]
  },
  {
   "cell_type": "markdown",
   "id": "990d4591",
   "metadata": {},
   "source": [
    "#### Lists \n",
    "\n",
    "Lists may be constructed in several ways:\n",
    "\n",
    " - using square brackets:\n",
    "    - empty list: `[]`\n",
    "    - separating items with commas: `[a]`, `[a, b, c]`\n",
    " - list comprehension: \n",
    "    - `[x for x in iterable]`\n",
    " - type constructor: \n",
    "    - empty list: `list()` \n",
    "    - from iterable: `list(iterable)`"
   ]
  },
  {
   "cell_type": "code",
   "execution_count": 76,
   "id": "097eff82",
   "metadata": {},
   "outputs": [
    {
     "name": "stdout",
     "output_type": "stream",
     "text": [
      "<class 'list'> []\n",
      "<class 'list'> []\n",
      "<class 'list'> [1, 2, 3]\n",
      "<class 'list'> ['a', 'b', 'c']\n",
      "<class 'list'> ['a', 'b']\n"
     ]
    }
   ],
   "source": [
    "# create some lists\n",
    "l1 =[]\n",
    "l2 = list()\n",
    "l3 =[1,2,3]\n",
    "l4=list('abc')\n",
    "l5=['a','b']\n",
    "my_lists=[l1,l2,l3,l4,l5]\n",
    "\n",
    "for l in my_lists:\n",
    "    print (type(l),l)"
   ]
  },
  {
   "cell_type": "markdown",
   "id": "7151bf81",
   "metadata": {},
   "source": [
    "##### List methods/operations\n",
    "\n",
    "Lists impement all of the [common sequence methods](https://docs.python.org/3/library/stdtypes.html#typesseq-common) and \n",
    "the [mutable sequence operations/methods](https://docs.python.org/3/library/stdtypes.html#typesseq-mutable).\n",
    "\n",
    "In addition, lists also support the additional method:\n",
    "   - `sort(key=None, reverse=False)`\n",
    "   - more information on sorting can be found in the [docs](https://docs.python.org/3/howto/sorting.html#sortinghowto)"
   ]
  },
  {
   "cell_type": "markdown",
   "id": "177ff121",
   "metadata": {},
   "source": [
    "\n",
    "##### List properties\n",
    "\n",
    "The important properties of lists are as follows:\n",
    " - elements can be accessed by index (suscriptable)\n",
    "  - iterable\n",
    " - mutable\n",
    " - ordered\n",
    " - can contain any arbitrary objects\n",
    " - can be nested to arbitrary depth\n",
    " - dynamic (change size)\n",
    "\n"
   ]
  },
  {
   "cell_type": "markdown",
   "id": "6a9f6263",
   "metadata": {},
   "source": [
    "\n",
    "<center><img src=\"Python_indexing.png\" alt=\"Drawing\" style=\"width: 600px;\"/><br><br>\n"
   ]
  },
  {
   "cell_type": "code",
   "execution_count": 3,
   "id": "058bf386",
   "metadata": {},
   "outputs": [
    {
     "data": {
      "text/plain": [
       "['a', 'b', 'c', 'd', 'e', 'f', 'g']"
      ]
     },
     "execution_count": 3,
     "metadata": {},
     "output_type": "execute_result"
    }
   ],
   "source": [
    "# create list of letters\n",
    "\n",
    "l = list ('abcdefg')\n",
    "l\n"
   ]
  },
  {
   "cell_type": "code",
   "execution_count": 11,
   "id": "dada56d7",
   "metadata": {},
   "outputs": [
    {
     "data": {
      "text/plain": [
       "[999, 'b', 'c', 'd', 'e', 'f', 'g']"
      ]
     },
     "execution_count": 11,
     "metadata": {},
     "output_type": "execute_result"
    }
   ],
   "source": [
    "# get a single element\n",
    "l[0]\n",
    "l[4]\n",
    "l[0:]"
   ]
  },
  {
   "cell_type": "code",
   "execution_count": 77,
   "id": "83502669-9e11-4895-9d5d-c134b479a953",
   "metadata": {},
   "outputs": [
    {
     "data": {
      "text/plain": [
       "['a', 'b', 'c', 'd', 'e', 'f', 'g', 'h', 'i', 'j', 'k', 'l']"
      ]
     },
     "execution_count": 77,
     "metadata": {},
     "output_type": "execute_result"
    }
   ],
   "source": [
    "# exercise\n"
   ]
  },
  {
   "cell_type": "code",
   "execution_count": null,
   "id": "74d3a638",
   "metadata": {},
   "outputs": [],
   "source": [
    "# slice with negative indices\n"
   ]
  },
  {
   "cell_type": "code",
   "execution_count": 60,
   "id": "b9e1f193",
   "metadata": {},
   "outputs": [
    {
     "name": "stdout",
     "output_type": "stream",
     "text": [
      "1913595727232\n"
     ]
    },
    {
     "data": {
      "text/plain": [
       "['a', 'b', 'c', 'd', 'e', 'f', 'g']"
      ]
     },
     "execution_count": 60,
     "metadata": {},
     "output_type": "execute_result"
    }
   ],
   "source": [
    "# change an element\n",
    "#l[0] =999\n",
    "#new\n",
    "l = list ('abcdefg')\n",
    "print(id(l))\n",
    "l[0] = 'a'\n",
    "l\n",
    "#print(id(l))"
   ]
  },
  {
   "cell_type": "code",
   "execution_count": 20,
   "id": "a4bb9a99",
   "metadata": {},
   "outputs": [
    {
     "name": "stdout",
     "output_type": "stream",
     "text": [
      "aa\n",
      "bb\n",
      "cc\n",
      "dd\n",
      "ee\n",
      "ff\n",
      "gg\n"
     ]
    }
   ],
   "source": [
    "# iterate over a list\n",
    "for el in l :\n",
    "    print (2*el)"
   ]
  },
  {
   "cell_type": "code",
   "execution_count": null,
   "id": "4bb47313",
   "metadata": {},
   "outputs": [],
   "source": [
    "# ordered \n"
   ]
  },
  {
   "cell_type": "code",
   "execution_count": 30,
   "id": "056ca7ef",
   "metadata": {},
   "outputs": [
    {
     "data": {
      "text/plain": [
       "1"
      ]
     },
     "execution_count": 30,
     "metadata": {},
     "output_type": "execute_result"
    }
   ],
   "source": [
    "# arbitrary objects\n",
    "l =[1,2.0,'a',[1,2,3],True,print]\n",
    "l[3][0]"
   ]
  },
  {
   "cell_type": "code",
   "execution_count": 25,
   "id": "0f3be00f",
   "metadata": {},
   "outputs": [
    {
     "data": {
      "text/plain": [
       "[1, [2, [3, [4, 5]]]]"
      ]
     },
     "execution_count": 25,
     "metadata": {},
     "output_type": "execute_result"
    }
   ],
   "source": [
    "# nesting\n",
    "l =[1,[2,[3,[4,5]]]]\n",
    "l\n"
   ]
  },
  {
   "cell_type": "code",
   "execution_count": 63,
   "id": "80a4f29d",
   "metadata": {},
   "outputs": [
    {
     "name": "stdout",
     "output_type": "stream",
     "text": [
      "a\n",
      "xxxx\n",
      "b\n",
      "c\n",
      "d\n",
      "['e', 'f']\n",
      "g\n",
      "h\n",
      "1\n",
      "2\n",
      "3\n"
     ]
    }
   ],
   "source": [
    "# add elements to a list: append, extend\n",
    "l= list('abc')\n",
    "l.append('d')\n",
    "l.append(['e','f'])\n",
    "l.extend(['g','h'])\n",
    "l.insert(1,'xxxx')\n",
    "\n",
    "\n",
    "l=l +[ 1,2,3]\n",
    "l\n",
    "\n",
    "for el in l:\n",
    "    print (el)\n",
    "#l[8]\n",
    "#l.reverse()"
   ]
  },
  {
   "cell_type": "markdown",
   "id": "2f9ac83f",
   "metadata": {},
   "source": [
    "#### Tuples \n",
    "\n",
    "Tuples may be constructed in several ways:\n",
    " - empty tuple: \n",
    "    - `()`\n",
    "    - `tuple()`\n",
    " - a singleton tuple: \n",
    "    - `a,` \n",
    "    - `(a,)`\n",
    " - a multi-element tuple:\n",
    "    - `a, b, c` \n",
    "    - `(a, b, c)`\n",
    "    - `tuple(iterable)`"
   ]
  },
  {
   "cell_type": "code",
   "execution_count": 75,
   "id": "6a9a6be3",
   "metadata": {},
   "outputs": [
    {
     "name": "stdout",
     "output_type": "stream",
     "text": [
      "<class 'tuple'> ()\n",
      "<class 'tuple'> ()\n",
      "<class 'tuple'> (3,)\n",
      "<class 'tuple'> (4,)\n",
      "<class 'tuple'> (1, 2, 3)\n",
      "<class 'tuple'> (4, 5, 6)\n",
      "<class 'tuple'> (7, 8, 9)\n"
     ]
    }
   ],
   "source": [
    "# create some tuples\n",
    "t1 =()\n",
    "t2 = tuple()\n",
    "t3=3,\n",
    "t4 = (4, )\n",
    "t5 =(1,2,3)\n",
    "t6 = tuple ([4,5,6])\n",
    "t7 =7,8,9\n",
    "\n",
    "tuple_list =[t1,t2,t3,t4,t5,t6,t7]\n",
    "\n",
    "for t in tuple_list:\n",
    "    print (type(t),t)"
   ]
  },
  {
   "cell_type": "markdown",
   "id": "b62580a2",
   "metadata": {},
   "source": [
    "##### Tuple methods\n",
    "\n",
    "Tuples impement all of the [common sequence methods](https://docs.python.org/3/library/stdtypes.html#typesseq-common).\n"
   ]
  },
  {
   "cell_type": "markdown",
   "id": "89a386f7",
   "metadata": {},
   "source": [
    "##### Tuple properties\n",
    "\n",
    "The important properties of tuples are as follows:\n",
    " - elements can be accessed by index (suscriptable)\n",
    " - iterable\n",
    " - immutable\n",
    " - ordered\n",
    " - can contain any arbitrary objects\n",
    " - can be nested to arbitrary depth\n"
   ]
  },
  {
   "cell_type": "code",
   "execution_count": 56,
   "id": "5f2aa423",
   "metadata": {},
   "outputs": [
    {
     "data": {
      "text/plain": [
       "4"
      ]
     },
     "execution_count": 56,
     "metadata": {},
     "output_type": "execute_result"
    }
   ],
   "source": [
    "# single element selection\n",
    "t6[0]"
   ]
  },
  {
   "cell_type": "code",
   "execution_count": 57,
   "id": "51222448",
   "metadata": {},
   "outputs": [
    {
     "data": {
      "text/plain": [
       "(4, 5)"
      ]
     },
     "execution_count": 57,
     "metadata": {},
     "output_type": "execute_result"
    }
   ],
   "source": [
    "# slice \n",
    "t6[0:2]"
   ]
  },
  {
   "cell_type": "code",
   "execution_count": 58,
   "id": "d87a9949",
   "metadata": {},
   "outputs": [
    {
     "ename": "TypeError",
     "evalue": "'tuple' object does not support item assignment",
     "output_type": "error",
     "traceback": [
      "\u001b[1;31m---------------------------------------------------------------------------\u001b[0m",
      "\u001b[1;31mTypeError\u001b[0m                                 Traceback (most recent call last)",
      "Cell \u001b[1;32mIn[58], line 2\u001b[0m\n\u001b[0;32m      1\u001b[0m \u001b[38;5;66;03m# change an element\u001b[39;00m\n\u001b[1;32m----> 2\u001b[0m \u001b[43mt6\u001b[49m\u001b[43m[\u001b[49m\u001b[38;5;241;43m0\u001b[39;49m\u001b[43m]\u001b[49m\u001b[38;5;241m=\u001b[39m\u001b[38;5;241m99\u001b[39m\n",
      "\u001b[1;31mTypeError\u001b[0m: 'tuple' object does not support item assignment"
     ]
    }
   ],
   "source": [
    "# change an element\n",
    "t6[0]=99"
   ]
  },
  {
   "cell_type": "code",
   "execution_count": 61,
   "id": "323fb3b2",
   "metadata": {},
   "outputs": [
    {
     "name": "stdout",
     "output_type": "stream",
     "text": [
      "1\n",
      "2\n",
      "3\n"
     ]
    }
   ],
   "source": [
    "# iterate over a tuple\n",
    "for item in t5:\n",
    "    print(item)"
   ]
  },
  {
   "cell_type": "code",
   "execution_count": 64,
   "id": "635359ff",
   "metadata": {},
   "outputs": [
    {
     "data": {
      "text/plain": [
       "False"
      ]
     },
     "execution_count": 64,
     "metadata": {},
     "output_type": "execute_result"
    }
   ],
   "source": [
    "# ordered \n",
    "(1,2,3)==(2,3,1)"
   ]
  },
  {
   "cell_type": "code",
   "execution_count": null,
   "id": "cbe3772b",
   "metadata": {},
   "outputs": [],
   "source": [
    "# arbitrary objects\n",
    "#('a',print)"
   ]
  },
  {
   "cell_type": "code",
   "execution_count": 65,
   "id": "e56c565c",
   "metadata": {},
   "outputs": [
    {
     "data": {
      "text/plain": [
       "(1, (2, (3, 4)))"
      ]
     },
     "execution_count": 65,
     "metadata": {},
     "output_type": "execute_result"
    }
   ],
   "source": [
    "# nesting\n",
    "(1,(2,(3,4)))"
   ]
  },
  {
   "cell_type": "markdown",
   "id": "61d2a96c",
   "metadata": {},
   "source": [
    "#### `range` function"
   ]
  },
  {
   "cell_type": "markdown",
   "id": "765b34bf",
   "metadata": {},
   "source": [
    "The range object is:\n",
    " - suscriptable\n",
    " - iterable\n",
    " - immutable\n",
    " - ordered\n",
    "\n",
    "However, you will generally see it used for loops, so the iterable property is the only one typcially seen. "
   ]
  },
  {
   "cell_type": "code",
   "execution_count": 99,
   "id": "06c62d8f",
   "metadata": {},
   "outputs": [
    {
     "name": "stdout",
     "output_type": "stream",
     "text": [
      "['a', 'b', 'c', 'd', 'e', 'f', 'g', 'h', 'i', 'j', 'x', 'x', 'x', 'x', 'x', 'x', 'x', 'x', 'x']\n"
     ]
    }
   ],
   "source": [
    "#for i in range (10):\n",
    "   # print (i)\n",
    "#for i in range (2,20,2):\n",
    "   # print (i+1)\n",
    "l2 =[]\n",
    "l=list('abcdefghijxxxxxxxxx')\n",
    "for letter in range(len(l)):\n",
    "    #print (letter)\n",
    "    #print (l[letter])\n",
    "    l2.insert(letter,l[letter])\n",
    "    #l2.append(l[letter])\n",
    "    \n",
    "\n",
    "print(l2)\n",
    "   # l.insert(1,'xxxx')"
   ]
  },
  {
   "cell_type": "markdown",
   "id": "d090831e",
   "metadata": {},
   "source": [
    "### Set types: `set`\n",
    "\n",
    " - using braces:\n",
    "    - separating items with commas: `{'a', 'b', 'c'}`\n",
    " - set comprehension: \n",
    "    - `{ch for ch in 'abc'}`\n",
    " - type constructor: \n",
    "    - empty list: `set()` \n",
    "    - from iterable: `set(iterable)`\n",
    "\n"
   ]
  },
  {
   "cell_type": "code",
   "execution_count": 69,
   "id": "d0df0ba6",
   "metadata": {},
   "outputs": [
    {
     "name": "stdout",
     "output_type": "stream",
     "text": [
      "<class 'dict'> {}\n",
      "<class 'set'> set()\n",
      "<class 'set'> {'a', 'c', 'b'}\n",
      "<class 'set'> {'a', 'c', 'b'}\n",
      "<class 'set'> {1, 2, 3}\n",
      "a\n",
      "s\n",
      "d\n",
      "a\n",
      "s\n",
      "d\n",
      "a\n",
      "s\n",
      "d\n"
     ]
    }
   ],
   "source": [
    "# create some sets \n",
    "#s1 = {} makes an empty dictionary not a set\n",
    "s1 ={}\n",
    "s2 = set()\n",
    "s3 = {'a','b','c'}\n",
    "s4 ={ch for ch in 'abc'}\n",
    "s5 =set([1,2,3,3,2,1])\n",
    "\n",
    "list_of_set=[s1,s2,s3,s4,s5]\n",
    "\n",
    "for type_set in list_of_set:\n",
    "    print(type(type_set),type_set)\n",
    "\n",
    "\n",
    "for cd in 'asdasdasd':\n",
    "    print(cd)"
   ]
  },
  {
   "cell_type": "code",
   "execution_count": 76,
   "id": "ae06951b",
   "metadata": {},
   "outputs": [
    {
     "data": {
      "text/plain": [
       "-3550055125485641917"
      ]
     },
     "execution_count": 76,
     "metadata": {},
     "output_type": "execute_result"
    }
   ],
   "source": []
  },
  {
   "cell_type": "code",
   "execution_count": null,
   "id": "c384ebc3",
   "metadata": {},
   "outputs": [],
   "source": [
    "# beware {}"
   ]
  },
  {
   "cell_type": "markdown",
   "id": "3817e2e4",
   "metadata": {},
   "source": [
    "#### Set methods/operations\n",
    "\n",
    "Sets implement various [methods/operations](https://docs.python.org/3/library/stdtypes.html#set) as noted in the docs."
   ]
  },
  {
   "cell_type": "markdown",
   "id": "1397c4c8",
   "metadata": {},
   "source": [
    "##### Set properties\n",
    "\n",
    "The important properties of sets are as follows:\n",
    " - elements are unique\n",
    " - not subscriptable\n",
    " - iterable\n",
    " - mutable\n",
    " - unordered\n",
    " - elements must be hashable \n"
   ]
  },
  {
   "cell_type": "code",
   "execution_count": null,
   "id": "c6262fb0",
   "metadata": {},
   "outputs": [],
   "source": [
    "# unique elements\n",
    "# even if you put {123123123} set will be 123 only"
   ]
  },
  {
   "cell_type": "code",
   "execution_count": 23,
   "id": "36864d92",
   "metadata": {},
   "outputs": [
    {
     "data": {
      "text/plain": [
       "{'1', 2, 3, 'a', 'b', 'c', 'd', 'e', 'f', 'g', 'h', 'i', 'j', 'k'}"
      ]
     },
     "execution_count": 23,
     "metadata": {},
     "output_type": "execute_result"
    }
   ],
   "source": [
    "# not subscriptable\n",
    "s = set ('abcdefg')\n",
    "s.add('h')\n",
    "s.update('ijk')\n",
    "s.update ([1,2,3])\n",
    "s.add('1')\n",
    "s.remove(1)\n",
    "s"
   ]
  },
  {
   "cell_type": "code",
   "execution_count": 17,
   "id": "778964a7",
   "metadata": {},
   "outputs": [
    {
     "name": "stdout",
     "output_type": "stream",
     "text": [
      "f\n",
      "d\n",
      "e\n",
      "g\n",
      "a\n",
      "c\n",
      "b\n"
     ]
    }
   ],
   "source": [
    "# iterable\n",
    "for item in s:\n",
    "    print (item)"
   ]
  },
  {
   "cell_type": "code",
   "execution_count": null,
   "id": "3881a412",
   "metadata": {},
   "outputs": [],
   "source": [
    "# mutable: add, remove, update\n",
    "#append does not work\n",
    "#add only adds 1\n",
    "#update can add multiple items"
   ]
  },
  {
   "cell_type": "code",
   "execution_count": null,
   "id": "c375dcbb",
   "metadata": {},
   "outputs": [],
   "source": [
    "# elements must be hashable"
   ]
  },
  {
   "cell_type": "code",
   "execution_count": 25,
   "id": "f057cc47",
   "metadata": {},
   "outputs": [
    {
     "data": {
      "text/plain": [
       "{'a', 'b', 'c', 'd', 'e', 'f', 'g', 'h'}"
      ]
     },
     "execution_count": 25,
     "metadata": {},
     "output_type": "execute_result"
    }
   ],
   "source": [
    "# union\n",
    "Set1 = set('abcde')\n",
    "Set2 = set('defgh')\n",
    "\n",
    "Set1.union(Set2)"
   ]
  },
  {
   "cell_type": "code",
   "execution_count": 26,
   "id": "8c65d8cc",
   "metadata": {},
   "outputs": [
    {
     "data": {
      "text/plain": [
       "{'d', 'e'}"
      ]
     },
     "execution_count": 26,
     "metadata": {},
     "output_type": "execute_result"
    }
   ],
   "source": [
    "# intersection\n",
    "Set1.intersection(Set2)"
   ]
  },
  {
   "cell_type": "code",
   "execution_count": 27,
   "id": "5ffe7697",
   "metadata": {},
   "outputs": [
    {
     "data": {
      "text/plain": [
       "{'a', 'b', 'c', 'f', 'g', 'h'}"
      ]
     },
     "execution_count": 27,
     "metadata": {},
     "output_type": "execute_result"
    }
   ],
   "source": [
    "Set1.symmetric_difference(Set2)"
   ]
  },
  {
   "cell_type": "markdown",
   "id": "18e7a8d1",
   "metadata": {},
   "source": [
    "### Mapping types: `dict`"
   ]
  },
  {
   "cell_type": "markdown",
   "id": "efed57f6",
   "metadata": {},
   "source": [
    "#### Dictionary \n",
    "\n",
    "Lists may be constructed in several ways:\n",
    "\n",
    " - using `key:value` pairs with braces:\n",
    "    - empty list: `{}`\n",
    "    - separating items with commas: `{'a':1, 'b':2, 'c':3}`\n",
    " - dictionary comprehension: \n",
    "    - `{x:x**2 for x in range(10)}`\n",
    " - type constructor: \n",
    "    - empty list: `dict()` \n",
    "    - from iterable: `dict([('a', 1), ('b', 2), ('c', 3)])`, `dict(a=1, b=2, c=3)`"
   ]
  },
  {
   "cell_type": "code",
   "execution_count": 32,
   "id": "33496d72",
   "metadata": {},
   "outputs": [
    {
     "name": "stdout",
     "output_type": "stream",
     "text": [
      "<class 'dict'> {}\n",
      "<class 'dict'> {}\n",
      "<class 'dict'> {'a': 1, 'b': 2, 'c': 3}\n",
      "<class 'dict'> {0: 0, 1: 1, 2: 4, 3: 9, 4: 16, 5: 25, 6: 36, 7: 49, 8: 64, 9: 81}\n",
      "<class 'dict'> {'a': 1, 'b': 2}\n",
      "<class 'dict'> {'a': 1, 'b': 2, 'c': 3}\n"
     ]
    }
   ],
   "source": [
    "# create some dictionaries\n",
    "\n",
    "d1 ={}\n",
    "d2 = dict()\n",
    "d3 = {'a':1, 'b':2,'c':3}\n",
    "d4 = {x:x**2 for x in range (10)}\n",
    "d4\n",
    "d5 = dict ([('a',1),('b',2)])\n",
    "d5\n",
    "d6 = dict (a=1,b=2,c=3)\n",
    "d6\n",
    "\n",
    "\n",
    "dict_list =[d1,d2,d3,d4,d5,d6]\n",
    "\n",
    "for dl in dict_list:\n",
    "    print(type(dl),dl)"
   ]
  },
  {
   "cell_type": "markdown",
   "id": "8c357436",
   "metadata": {},
   "source": [
    "#### Dictionary operations\n",
    "\n",
    "Dictionaries various [methods/operations](https://docs.python.org/3/library/stdtypes.html#dict) as noted in the docs."
   ]
  },
  {
   "cell_type": "code",
   "execution_count": null,
   "id": "c58280a4",
   "metadata": {},
   "outputs": [],
   "source": []
  },
  {
   "cell_type": "markdown",
   "id": "928c9322",
   "metadata": {},
   "source": [
    "##### Dictionary  properties\n",
    "\n",
    "The important properties of dictionaries are as follows:\n",
    " - access values by keys\n",
    " - iterable\n",
    " - mutable\n",
    " - unordered\n",
    " - keys must be hashable\n",
    " - can be nested\n",
    " - dynamic\n"
   ]
  },
  {
   "cell_type": "code",
   "execution_count": 34,
   "id": "3c0bd246",
   "metadata": {},
   "outputs": [
    {
     "data": {
      "text/plain": [
       "{'a': 1, 'b': 2, 'c': 3}"
      ]
     },
     "execution_count": 34,
     "metadata": {},
     "output_type": "execute_result"
    }
   ],
   "source": [
    "# access via key\n",
    "\n",
    "d5 = dict ([('a',1),('b',2),('c',3)])\n",
    "d5"
   ]
  },
  {
   "cell_type": "code",
   "execution_count": 36,
   "id": "2c9bd216",
   "metadata": {},
   "outputs": [
    {
     "data": {
      "text/plain": [
       "1"
      ]
     },
     "execution_count": 36,
     "metadata": {},
     "output_type": "execute_result"
    }
   ],
   "source": [
    "d5['a']"
   ]
  },
  {
   "cell_type": "code",
   "execution_count": 38,
   "id": "aa2eb0f8",
   "metadata": {},
   "outputs": [
    {
     "data": {
      "text/plain": [
       "{'b': 2, 'c': 3}"
      ]
     },
     "execution_count": 38,
     "metadata": {},
     "output_type": "execute_result"
    }
   ],
   "source": [
    "# mutable: d[k]=v, del, update\n",
    "d5['a'] = 66\n",
    "d5\n",
    "del d5['a']\n",
    "d5"
   ]
  },
  {
   "cell_type": "code",
   "execution_count": 41,
   "id": "d0d8ca63",
   "metadata": {},
   "outputs": [
    {
     "data": {
      "text/plain": [
       "{'b': 2, 'c': 3, 'e': 5, 'f': 6}"
      ]
     },
     "execution_count": 41,
     "metadata": {},
     "output_type": "execute_result"
    }
   ],
   "source": [
    "d5.update ({'e':5,'f':6})\n",
    "d5\n",
    "\n"
   ]
  },
  {
   "cell_type": "code",
   "execution_count": 53,
   "id": "100f9589",
   "metadata": {},
   "outputs": [
    {
     "data": {
      "text/plain": [
       "4"
      ]
     },
     "execution_count": 53,
     "metadata": {},
     "output_type": "execute_result"
    }
   ],
   "source": [
    "# nesting\n",
    "d ={'a':{'b':{'c':4}}}\n",
    "d['a']['b']['c']"
   ]
  },
  {
   "cell_type": "code",
   "execution_count": 59,
   "id": "011bd262",
   "metadata": {},
   "outputs": [
    {
     "data": {
      "text/plain": [
       "dict_items([('b', 2), ('c', 3), ('e', 5), ('f', 6)])"
      ]
     },
     "execution_count": 59,
     "metadata": {},
     "output_type": "execute_result"
    }
   ],
   "source": [
    "d5.items()"
   ]
  },
  {
   "cell_type": "code",
   "execution_count": 57,
   "id": "583f30e8",
   "metadata": {},
   "outputs": [
    {
     "data": {
      "text/plain": [
       "dict_values([2, 3, 5, 6])"
      ]
     },
     "execution_count": 57,
     "metadata": {},
     "output_type": "execute_result"
    }
   ],
   "source": [
    "d5.values()"
   ]
  },
  {
   "cell_type": "code",
   "execution_count": 55,
   "metadata": {},
   "outputs": [
    {
     "data": {
      "text/plain": [
       "dict_keys(['b', 'c', 'e', 'f'])"
      ]
     },
     "execution_count": 55,
     "metadata": {},
     "output_type": "execute_result"
    }
   ],
   "source": [
    "d5.keys()"
   ]
  },
  {
   "cell_type": "code",
   "execution_count": 66,
   "id": "5f5741f9",
   "metadata": {},
   "outputs": [
    {
     "name": "stdout",
     "output_type": "stream",
     "text": [
      "b 2\n",
      "c 3\n",
      "e 5\n",
      "f 6\n"
     ]
    }
   ],
   "source": [
    "# for k in d5.keys():\n",
    "#     print(k)\n",
    "\n",
    "# for v in d5.values():\n",
    "#     print(v)\n",
    "\n",
    "# for i in d5.items():\n",
    "#     print(i)\n",
    "\n",
    "for k,v in d5.items():\n",
    "    print(k,v)\n"
   ]
  },
  {
   "cell_type": "code",
   "execution_count": 68,
   "id": "81f62a93",
   "metadata": {},
   "outputs": [
    {
     "data": {
      "text/plain": [
       "{'b': 2, 'c': 3, 'e': 5, 'f': 6}"
      ]
     },
     "execution_count": 68,
     "metadata": {},
     "output_type": "execute_result"
    }
   ],
   "source": [
    "{x:y for x,y in d5.items()}"
   ]
  },
  {
   "cell_type": "code",
   "execution_count": null,
   "id": "a3dabc12",
   "metadata": {},
   "outputs": [],
   "source": [
    "# iterable"
   ]
  }
 ],
 "metadata": {
  "kernelspec": {
   "display_name": "Python 3 (ipykernel)",
   "language": "python",
   "name": "python3"
  },
  "language_info": {
   "codemirror_mode": {
    "name": "ipython",
    "version": 3
   },
   "file_extension": ".py",
   "mimetype": "text/x-python",
   "name": "python",
   "nbconvert_exporter": "python",
   "pygments_lexer": "ipython3",
   "version": "3.12.1"
  }
 },
 "nbformat": 4,
 "nbformat_minor": 5
}
