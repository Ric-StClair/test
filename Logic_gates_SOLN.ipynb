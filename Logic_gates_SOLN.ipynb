{
 "cells": [
  {
   "cell_type": "markdown",
   "id": "c78132a8-89a7-4b34-8ac5-47b3070040cc",
   "metadata": {},
   "source": [
    "# Logic Gates: follow-up from Lecture 1"
   ]
  },
  {
   "cell_type": "markdown",
   "id": "b29c33ec-f589-4c72-ac9a-c36404865975",
   "metadata": {
    "tags": []
   },
   "source": [
    "### Binary digits\n",
    "\n",
    "**EVERYTHING** on a computer is stored as a sequence of 0's and 1's:\n",
    " - photos\n",
    " - documents\n",
    " - movies\n",
    " - songs\n",
    " - excel spreadsheet\n",
    " - etc."
   ]
  },
  {
   "cell_type": "code",
   "execution_count": 1,
   "id": "24fa4171-5c60-4637-a419-0d80ecc73c60",
   "metadata": {
    "tags": []
   },
   "outputs": [
    {
     "data": {
      "text/plain": [
       "(97, '0b1100001')"
      ]
     },
     "execution_count": 1,
     "metadata": {},
     "output_type": "execute_result"
    }
   ],
   "source": [
    "ord('a'), bin(ord('a'))"
   ]
  },
  {
   "cell_type": "markdown",
   "id": "67ac25e7-363d-422c-82d5-23e1cb627b9a",
   "metadata": {},
   "source": [
    "### NOT gate\n",
    "\n",
    "![Image](not_gate.png)"
   ]
  },
  {
   "cell_type": "code",
   "execution_count": 2,
   "id": "68466b46",
   "metadata": {},
   "outputs": [],
   "source": [
    "# create a NOT gate\n",
    "def not_gate(A):\n",
    "    if A:\n",
    "        return False\n",
    "    else:\n",
    "        return True"
   ]
  },
  {
   "cell_type": "code",
   "execution_count": 25,
   "id": "b49da71f",
   "metadata": {},
   "outputs": [
    {
     "name": "stdout",
     "output_type": "stream",
     "text": [
      "the ans of not gate =  True\n",
      "True\n"
     ]
    }
   ],
   "source": [
    "##### MY SOL###\n",
    "\n",
    "def not_gate(A):\n",
    "    if A:\n",
    "        return False\n",
    "    else:\n",
    "        return True\n",
    "print(f\"the ans of not gate =  {not_gate(0) }\")\n",
    "\n",
    "print( not_gate([]))\n",
    "  "
   ]
  },
  {
   "cell_type": "code",
   "execution_count": 3,
   "id": "a040bcba",
   "metadata": {},
   "outputs": [
    {
     "name": "stdout",
     "output_type": "stream",
     "text": [
      "A = False, not_gate(A) = True\n",
      "A = True, not_gate(A) = False\n"
     ]
    }
   ],
   "source": [
    "# test NOT gate\n",
    "\n",
    "for A in [False, True]:\n",
    "    print(f\"A = {A}, not_gate(A) = {not_gate(A)}\")"
   ]
  },
  {
   "cell_type": "code",
   "execution_count": 6,
   "id": "27f41127",
   "metadata": {},
   "outputs": [
    {
     "name": "stdout",
     "output_type": "stream",
     "text": [
      "A = some text, not_gate(A) = False\n",
      "A = , not_gate(A) = True\n",
      "A = 45, not_gate(A) = False\n",
      "A = -99, not_gate(A) = False\n",
      "A = 0, not_gate(A) = True\n",
      "A = [1, 2, 3], not_gate(A) = False\n",
      "A = [], not_gate(A) = True\n"
     ]
    }
   ],
   "source": [
    "# test some more\n",
    "\n",
    "test_cases = ['some text', '', 45, -99, 0, [1, 2, 3], []]\n",
    "\n",
    "for A in test_cases:\n",
    "    print(f\"A = {A}, not_gate(A) = {not_gate(A)}\")"
   ]
  },
  {
   "cell_type": "markdown",
   "id": "9d07a89a-2fab-4bb0-8336-85f41e6ec95e",
   "metadata": {},
   "source": [
    "### AND gate\n",
    "\n",
    "![Image](and_gate.png)"
   ]
  },
  {
   "cell_type": "code",
   "execution_count": 8,
   "id": "13e05bab-db88-4239-8f31-6a72e61f86eb",
   "metadata": {
    "tags": []
   },
   "outputs": [],
   "source": [
    "# create AND gate\n",
    "\n",
    "def and_gate(A, B):\n",
    "    if A:\n",
    "        if B:\n",
    "            return True\n",
    "        else:\n",
    "            return False\n",
    "    else:\n",
    "        return False"
   ]
  },
  {
   "cell_type": "code",
   "execution_count": 32,
   "id": "e8474608",
   "metadata": {},
   "outputs": [
    {
     "name": "stdout",
     "output_type": "stream",
     "text": [
      "0 0\n",
      "0\n",
      "0 1\n",
      "0\n",
      "1 0\n",
      "0\n",
      "1 1\n",
      "1\n"
     ]
    }
   ],
   "source": [
    "##### MY SOL###\n",
    "\n",
    "def and_gate(A,B):\n",
    "    if A == 1:\n",
    "        if B == 1:\n",
    "            return 1\n",
    "        else:\n",
    "            return 0\n",
    "    if A == 0:\n",
    "        return 0\n",
    "\n",
    "# print ( and_gate(0,1))\n",
    "\n",
    "inp_lst = [[0,0],[0,1],[1,0],[1,1]]\n",
    "for A,B in inp_lst:\n",
    "    print (A,B)\n",
    "    print(and_gate(A,B) )\n",
    "    "
   ]
  },
  {
   "cell_type": "code",
   "execution_count": 9,
   "id": "86d35e79",
   "metadata": {},
   "outputs": [
    {
     "name": "stdout",
     "output_type": "stream",
     "text": [
      "A = False, B = False, and_gate(A, B) = False\n",
      "A = False, B = True, and_gate(A, B) = False\n",
      "A = True, B = False, and_gate(A, B) = False\n",
      "A = True, B = True, and_gate(A, B) = True\n"
     ]
    }
   ],
   "source": [
    "# test AND gate\n",
    "\n",
    "inputs = ([[False, False], [False, True], [True, False], [True, True]])\n",
    "\n",
    "for A, B in inputs:\n",
    "    print(f\"A = {A}, B = {B}, and_gate(A, B) = {and_gate(A, B)}\")"
   ]
  },
  {
   "cell_type": "code",
   "execution_count": 10,
   "id": "1db7864d",
   "metadata": {},
   "outputs": [
    {
     "name": "stdout",
     "output_type": "stream",
     "text": [
      "A = , B = 0, and_gate(A, B) = False\n",
      "A = , B = 45, and_gate(A, B) = False\n",
      "A = -99, B = None, and_gate(A, B) = False\n",
      "A = some text, B = some other text, and_gate(A, B) = True\n"
     ]
    }
   ],
   "source": [
    "# test some more\n",
    "\n",
    "inputs = ([['', 0], ['', 45], [-99, None], ['some text', 'some other text']])\n",
    "\n",
    "for A, B in inputs:\n",
    "    print(f\"A = {A}, B = {B}, and_gate(A, B) = {and_gate(A, B)}\")"
   ]
  },
  {
   "cell_type": "markdown",
   "id": "d128c3ea-dfb4-4e5a-b1f0-0035250b2551",
   "metadata": {},
   "source": [
    "### XOR gate\n",
    "\n",
    "![Image](xor_gate.png)"
   ]
  },
  {
   "cell_type": "code",
   "execution_count": 11,
   "id": "caa95545-940e-4d0f-a5f0-e1f0273eff8c",
   "metadata": {
    "tags": []
   },
   "outputs": [],
   "source": [
    "# create XOR gate\n",
    "\n",
    "def xor_gate(A, B):\n",
    "    if A:\n",
    "        if B:\n",
    "            return False\n",
    "        else:\n",
    "            return True\n",
    "    else:\n",
    "        if B:\n",
    "            return True\n",
    "        else:\n",
    "            return False\n",
    "\n",
    "\n"
   ]
  },
  {
   "cell_type": "code",
   "execution_count": 36,
   "id": "cb76ee80",
   "metadata": {},
   "outputs": [
    {
     "name": "stdout",
     "output_type": "stream",
     "text": [
      "A = 0, B = 0, xor_gate(A, B) = 0\n",
      "A = 0, B = 1, xor_gate(A, B) = 1\n",
      "A = 1, B = 0, xor_gate(A, B) = 1\n",
      "A = 1, B = 1, xor_gate(A, B) = 0\n"
     ]
    }
   ],
   "source": [
    "#MY SOL#####\n",
    "\n",
    "def xor_gate1(A,B):\n",
    "    if A==B:\n",
    "        return 0\n",
    "    else:\n",
    "        return 1\n",
    "\n",
    "xor_lst = [[0,0],[0,1],[1,0],[1,1]]\n",
    "# for A,B in xor_lst:\n",
    "#     print (xor_gate1(A,B))\n",
    "for A, B in xor_lst:\n",
    "    print(f\"A = {A}, B = {B}, xor_gate(A, B) = {xor_gate1(A, B)}\")\n",
    "    "
   ]
  },
  {
   "cell_type": "code",
   "execution_count": 12,
   "id": "405de74f",
   "metadata": {},
   "outputs": [
    {
     "name": "stdout",
     "output_type": "stream",
     "text": [
      "A = False, B = False, xor_gate(A, B) = False\n",
      "A = False, B = True, xor_gate(A, B) = True\n",
      "A = True, B = False, xor_gate(A, B) = True\n",
      "A = True, B = True, xor_gate(A, B) = False\n"
     ]
    }
   ],
   "source": [
    "# test XOR gate\n",
    "\n",
    "inputs = ([[False, False], [False, True], [True, False], [True, True]])\n",
    "\n",
    "for A, B in inputs:\n",
    "    print(f\"A = {A}, B = {B}, xor_gate(A, B) = {xor_gate(A, B)}\")"
   ]
  },
  {
   "cell_type": "code",
   "execution_count": 13,
   "id": "ca67a0e3",
   "metadata": {},
   "outputs": [
    {
     "name": "stdout",
     "output_type": "stream",
     "text": [
      "A = , B = 0, xor_gate(A, B) = False\n",
      "A = , B = 45, xor_gate(A, B) = True\n",
      "A = -99, B = None, xor_gate(A, B) = True\n",
      "A = some text, B = some other text, xor_gate(A, B) = False\n"
     ]
    }
   ],
   "source": [
    "# test some more\n",
    "\n",
    "inputs = ([['', 0], ['', 45], [-99, None], ['some text', 'some other text']])\n",
    "\n",
    "for A, B in inputs:\n",
    "    print(f\"A = {A}, B = {B}, xor_gate(A, B) = {xor_gate(A, B)}\")"
   ]
  },
  {
   "cell_type": "markdown",
   "id": "1e07ec2d-5371-4245-b454-8e7ec774532a",
   "metadata": {},
   "source": [
    "### 2-Bit Adder\n",
    "\n",
    "![Image](two_bit_adder.png)"
   ]
  },
  {
   "cell_type": "code",
   "execution_count": 14,
   "id": "a59520c3-4e0d-4c4a-8925-36c6df080612",
   "metadata": {
    "tags": []
   },
   "outputs": [],
   "source": [
    "# 2 bit adder\n",
    "\n",
    "def adder(A, B):\n",
    "    S = xor_gate(A, B)\n",
    "    C = and_gate(A, B)\n",
    "    return C, S\n",
    "        "
   ]
  },
  {
   "cell_type": "code",
   "execution_count": 15,
   "id": "c39e5aa6",
   "metadata": {},
   "outputs": [
    {
     "name": "stdout",
     "output_type": "stream",
     "text": [
      "A = False, B = False, adder(A, B) = (False, False)\n",
      "A = False, B = True, adder(A, B) = (False, True)\n",
      "A = True, B = False, adder(A, B) = (False, True)\n",
      "A = True, B = True, adder(A, B) = (True, False)\n"
     ]
    }
   ],
   "source": [
    "# test 2-bit adder\n",
    "\n",
    "inputs = ([[False, False], [False, True], [True, False], [True, True]])\n",
    "\n",
    "for A, B in inputs:\n",
    "    print(f\"A = {A}, B = {B}, adder(A, B) = {adder(A, B)}\")"
   ]
  },
  {
   "cell_type": "code",
   "execution_count": null,
   "id": "fb1a8982",
   "metadata": {},
   "outputs": [],
   "source": []
  }
 ],
 "metadata": {
  "kernelspec": {
   "display_name": "Python 3 (ipykernel)",
   "language": "python",
   "name": "python3"
  },
  "language_info": {
   "codemirror_mode": {
    "name": "ipython",
    "version": 3
   },
   "file_extension": ".py",
   "mimetype": "text/x-python",
   "name": "python",
   "nbconvert_exporter": "python",
   "pygments_lexer": "ipython3",
   "version": "3.12.1"
  }
 },
 "nbformat": 4,
 "nbformat_minor": 5
}
